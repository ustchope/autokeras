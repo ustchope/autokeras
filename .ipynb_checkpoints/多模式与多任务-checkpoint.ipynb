{
 "cells": [
  {
   "cell_type": "markdown",
   "id": "quiet-christopher",
   "metadata": {},
   "source": [
    "# 多模式与多任务"
   ]
  },
  {
   "cell_type": "code",
   "execution_count": 1,
   "id": "sapphire-finnish",
   "metadata": {},
   "outputs": [],
   "source": [
    "import numpy as np\n",
    "\n",
    "import autokeras as ak\n",
    "import tensorflow as tf"
   ]
  },
  {
   "cell_type": "markdown",
   "id": "exciting-passing",
   "metadata": {},
   "source": [
    "在本教程中，我们将使用 AutoModel API 来展示如何处理多模态数据和多任务。"
   ]
  },
  {
   "cell_type": "code",
   "execution_count": null,
   "id": "abroad-learning",
   "metadata": {},
   "outputs": [],
   "source": [
    "gpus = tf.config.list_physical_devices(\"GPU\")\n",
    "\n",
    "if gpus:\n",
    "   \n",
    "    gpu0 = gpus[1] #如果有多个GPU，仅使用第0个GPU\n",
    "    tf.config.experimental.set_memory_growth(gpu0, True) #设置GPU显存用量按需使用\n",
    "    # 或者也可以设置GPU显存为固定使用量(例如：4G)\n",
    "    #tf.config.experimental.set_virtual_device_configuration(gpu0,\n",
    "    #    [tf.config.experimental.VirtualDeviceConfiguration(memory_limit=4096)]) \n",
    "    tf.config.set_visible_devices([gpu0],\"GPU\") "
   ]
  },
  {
   "cell_type": "markdown",
   "id": "flush-technician",
   "metadata": {},
   "source": [
    "## 什么是多模态？"
   ]
  },
  {
   "cell_type": "markdown",
   "id": "prostate-bidding",
   "metadata": {},
   "source": [
    "多模态数据意味着每个数据实例都有多种形式的信息。 例如，可以将照片另存为图像。 除了图像，它也可能有它被取的时间和地点作为其属性，可以表示为结构化数据。"
   ]
  },
  {
   "cell_type": "markdown",
   "id": "bearing-modem",
   "metadata": {},
   "source": [
    "## 什么是多任务？"
   ]
  },
  {
   "cell_type": "markdown",
   "id": "standard-yeast",
   "metadata": {},
   "source": [
    "多任务这里我们指的是我们要预测具有相同输入特征的多个目标。 例如，我们不仅要根据其内容对图像进行分类，还要将其质量回归为介于 0 和 1 之间的浮点数。\n",
    "\n",
    "下图显示了多模态和多任务神经网络模型的示例。"
   ]
  },
  {
   "cell_type": "markdown",
   "id": "immediate-kentucky",
   "metadata": {},
   "source": [
    "![](https://tva1.sinaimg.cn/large/008i3skNly1gs9p2h6ou7j30la0fa75a.jpg)"
   ]
  },
  {
   "cell_type": "markdown",
   "id": "impressed-deadline",
   "metadata": {},
   "source": [
    "它有两个输入图像和结构化数据。 每个图像都与结构化数据中的一组属性相关联。 从这些数据中，我们试图同时预测分类标签和回归值。"
   ]
  },
  {
   "cell_type": "markdown",
   "id": "potential-utility",
   "metadata": {},
   "source": [
    "## 数据准备"
   ]
  },
  {
   "cell_type": "markdown",
   "id": "particular-arctic",
   "metadata": {},
   "source": [
    "为了说明我们的想法，我们生成一些随机图像和结构化数据作为多模态数据。"
   ]
  },
  {
   "cell_type": "code",
   "execution_count": 3,
   "id": "liquid-constitution",
   "metadata": {},
   "outputs": [],
   "source": [
    "num_instances = 100\n",
    "# Generate image data.\n",
    "image_data = np.random.rand(num_instances, 32, 32, 3).astype(np.float32)\n",
    "# Generate structured data.\n",
    "structured_data = np.random.rand(num_instances, 20).astype(np.float32)"
   ]
  },
  {
   "cell_type": "code",
   "execution_count": 4,
   "id": "restricted-natural",
   "metadata": {},
   "outputs": [
    {
     "data": {
      "text/plain": [
       "(100, 32, 32, 3)"
      ]
     },
     "execution_count": 4,
     "metadata": {},
     "output_type": "execute_result"
    }
   ],
   "source": [
    "image_data.shape"
   ]
  },
  {
   "cell_type": "markdown",
   "id": "appreciated-morning",
   "metadata": {},
   "source": [
    "我们还为分类和回归生成了一些多任务目标。"
   ]
  },
  {
   "cell_type": "code",
   "execution_count": 5,
   "id": "incorporated-force",
   "metadata": {},
   "outputs": [],
   "source": [
    "# Generate regression targets.\n",
    "regression_target = np.random.rand(num_instances, 1).astype(np.float32)\n",
    "# Generate classification labels of five classes.\n",
    "classification_target = np.random.randint(5, size=num_instances)"
   ]
  },
  {
   "cell_type": "code",
   "execution_count": 6,
   "id": "average-convergence",
   "metadata": {},
   "outputs": [
    {
     "data": {
      "text/plain": [
       "(100,)"
      ]
     },
     "execution_count": 6,
     "metadata": {},
     "output_type": "execute_result"
    }
   ],
   "source": [
    "classification_target.shape"
   ]
  },
  {
   "cell_type": "markdown",
   "id": "previous-pathology",
   "metadata": {},
   "source": [
    "## 构建和训练模型"
   ]
  },
  {
   "cell_type": "markdown",
   "id": "unavailable-entity",
   "metadata": {},
   "source": [
    "然后我们用 AutoModel 初始化多模态多任务模型。 由于这只是一个演示，我们使用了少量的 max_trials 和 epochs。"
   ]
  },
  {
   "cell_type": "code",
   "execution_count": 7,
   "id": "rational-corps",
   "metadata": {},
   "outputs": [],
   "source": [
    "# Initialize the multi with multiple inputs and outputs.\n",
    "model = ak.AutoModel(\n",
    "    inputs=[ak.ImageInput(), ak.StructuredDataInput()],\n",
    "    outputs=[\n",
    "        ak.RegressionHead(metrics=[\"mae\"]),\n",
    "        ak.ClassificationHead(loss=\"categorical_crossentropy\", metrics=[\"accuracy\"]),\n",
    "    ],\n",
    "    overwrite=True,\n",
    "    max_trials=2,\n",
    ")"
   ]
  },
  {
   "cell_type": "code",
   "execution_count": null,
   "id": "practical-acceptance",
   "metadata": {},
   "outputs": [
    {
     "name": "stdout",
     "output_type": "stream",
     "text": [
      "Trial 2 Complete [00h 00m 14s]\n",
      "val_loss: 4.782716274261475\n",
      "\n",
      "Best val_loss So Far: 1.6710597276687622\n",
      "Total elapsed time: 00h 00m 56s\n",
      "INFO:tensorflow:Oracle triggered exit\n",
      "Epoch 1/3\n",
      "4/4 [==============================] - 9s 1s/step - loss: 9.2384 - regression_head_1_loss: 6.2782 - classification_head_1_loss: 2.9602 - regression_head_1_mae: 1.9773 - classification_head_1_accuracy: 0.2200\n",
      "Epoch 2/3\n",
      "4/4 [==============================] - 0s 55ms/step - loss: 23.6638 - regression_head_1_loss: 21.3307 - classification_head_1_loss: 2.3330 - regression_head_1_mae: 3.5420 - classification_head_1_accuracy: 0.3100\n",
      "Epoch 3/3\n",
      "4/4 [==============================] - 0s 59ms/step - loss: 24.2054 - regression_head_1_loss: 21.4006 - classification_head_1_loss: 2.8048 - regression_head_1_mae: 3.5821 - classification_head_1_accuracy: 0.1700\n"
     ]
    }
   ],
   "source": [
    "# Fit the model with prepared data.\n",
    "model.fit(\n",
    "    [image_data, structured_data],\n",
    "    [regression_target, classification_target],\n",
    "    epochs=3,\n",
    ")"
   ]
  },
  {
   "cell_type": "code",
   "execution_count": null,
   "id": "frequent-hanging",
   "metadata": {},
   "outputs": [],
   "source": []
  }
 ],
 "metadata": {
  "kernelspec": {
   "display_name": "Python [conda env:tensorflow]",
   "language": "python",
   "name": "conda-env-tensorflow-py"
  },
  "language_info": {
   "codemirror_mode": {
    "name": "ipython",
    "version": 3
   },
   "file_extension": ".py",
   "mimetype": "text/x-python",
   "name": "python",
   "nbconvert_exporter": "python",
   "pygments_lexer": "ipython3",
   "version": "3.8.10"
  }
 },
 "nbformat": 4,
 "nbformat_minor": 5
}
