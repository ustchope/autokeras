{
 "cells": [
  {
   "cell_type": "markdown",
   "id": "documented-contest",
   "metadata": {},
   "source": [
    "# 模块（Block）"
   ]
  },
  {
   "cell_type": "markdown",
   "id": "mexican-clear",
   "metadata": {},
   "source": [
    "## ConvBlock"
   ]
  },
  {
   "cell_type": "markdown",
   "id": "assumed-advocate",
   "metadata": {},
   "source": [
    "```Python\n",
    "autokeras.ConvBlock(\n",
    "    kernel_size=None,\n",
    "    num_blocks=None,\n",
    "    num_layers=None,\n",
    "    filters=None,\n",
    "    max_pooling=None,\n",
    "    separable=None,\n",
    "    dropout=None,\n",
    "    **kwargs\n",
    ")\n",
    "```"
   ]
  },
  {
   "cell_type": "markdown",
   "id": "animal-glass",
   "metadata": {},
   "source": [
    "## 参数"
   ]
  },
  {
   "cell_type": "markdown",
   "id": "sporting-memphis",
   "metadata": {},
   "source": [
    "* `kernel_size` 可选[Union[int, keras_tuner.engine.hyperparameters.Choice]]：Int 或 * keras_tuner.engine.hyperparameters.Choice。内核的大小。如果未指定，它将自动调整。\n",
    "* `num_blocks` 可选[Union[int, keras_tuner.engine.hyperparameters.Choice]]：Int 或 keras_tuner.engine.hyperparameters.Choice。 conv 块的数量，每个块可能包含卷积、最大池化、dropout 和激活。如果未指定，它将自动调整。\n",
    "* `num_layers` 可选[Union[int, keras_tuner.engine.hyperparameters.Choice]]：Int 或 hyperparameters.Choice。每个块中的卷积层数。如果未指定，它将自动调整。\n",
    "* `filter` 可选[联合[int，keras_tuner.engine.hyperparameters.Choice]]：Int或keras_tuner.engine.hyperparameters.Choice。卷积层中的过滤器数量。如果未指定，它将自动调整。\n",
    "* `max_pooling` 可选[bool]：布尔值。是否在每个块中使用最大池化层。如果未指定，它将自动调整。\n",
    "* `separable` 可选[bool]：布尔值。是否使用可分离的卷积层。如果未指定，它将自动调整。\n",
    "* `dropout` 可选[浮动]：浮动。介于 0 和 1 之间。卷积层之后的丢失率。如果未指定，它将自动调整。"
   ]
  },
  {
   "cell_type": "markdown",
   "id": "reasonable-hepatitis",
   "metadata": {},
   "source": [
    "## DenseBlock"
   ]
  },
  {
   "cell_type": "markdown",
   "id": "modified-learning",
   "metadata": {},
   "source": [
    "```Python\n",
    "autokeras.DenseBlock(num_layers=None, num_units=None, use_batchnorm=None, dropout=None, **kwargs)\n",
    "```"
   ]
  },
  {
   "cell_type": "markdown",
   "id": "excessive-feature",
   "metadata": {},
   "source": [
    "### 参数"
   ]
  },
  {
   "cell_type": "markdown",
   "id": "billion-escape",
   "metadata": {},
   "source": [
    "* `num_layers` 可选[Union[int, keras_tuner.engine.hyperparameters.Choice]]：Int 或 keras_tuner.engine.hyperparameters.Choice。 块中 Dense 层的数量。 如果未指定，它将自动调整。\n",
    "* `num_units` 可选[Union[int, keras_tuner.engine.hyperparameters.Choice]]：Int 或 keras_tuner.engine.hyperparameters.Choice。 每个密集层中的单元数。 如果未指定，它将自动调整。\n",
    "* `use_bn`：布尔值。 是否使用 BatchNormalization 层。 如果未指定，它将自动调整。\n",
    "* `dropout`： 可选[Union[float, keras_tuner.engine.hyperparameters.Choice]]: Float 或keras_tuner.engine.hyperparameters.Choice。 层的丢失率。 如果未指定，它将自动调整。"
   ]
  },
  {
   "cell_type": "markdown",
   "id": "right-virgin",
   "metadata": {},
   "source": [
    "## Embedding"
   ]
  },
  {
   "cell_type": "markdown",
   "id": "nuclear-stamp",
   "metadata": {},
   "source": [
    "```Python\n",
    "autokeras.Embedding(max_features=20001, pretraining=None, embedding_dim=None, dropout=None, **kwargs)\n",
    "```"
   ]
  },
  {
   "cell_type": "markdown",
   "id": "derived-upper",
   "metadata": {},
   "source": [
    "输入应该是具有相同长度的标记化序列，其中序列的每个元素应该是单词的索引。"
   ]
  },
  {
   "cell_type": "markdown",
   "id": "funky-mason",
   "metadata": {},
   "source": [
    "* `max_features` int: 整数。 词汇量。 如果在此块之前不使用 TextToIntSequence，则必须设置。 默认为 20001。\n",
    "* `pretraining` 可选[Union[str, keras_tuner.engine.hyperparameters.Choice]]：字符串或 keras_tuner.engine.hyperparameters.Choice。 'random'（使用随机权重代替任何预训练模型）、'glove'、'fasttext' 或 'word2vec'。 使用预训练的词嵌入。 如果未指定，它将自动调整。\n",
    "* `embedding_dim` 可选[Union[int, keras_tuner.engine.hyperparameters.Choice]]：Int 或 keras_tuner.engine.hyperparameters.Choice。 注意块的输出维度。 如果未指定，它将自动调整。\n",
    "* `dropout` 可选[Union[float, keras_tuner.engine.hyperparameters.Choice]]: Float 或 keras_tuner.engine.hyperparameters.Choice。 层的丢失率。 如果未指定，它将自动调整。"
   ]
  },
  {
   "cell_type": "markdown",
   "id": "parliamentary-firewall",
   "metadata": {},
   "source": [
    "## Merge"
   ]
  },
  {
   "cell_type": "markdown",
   "id": "ultimate-north",
   "metadata": {},
   "source": [
    "```Python\n",
    "autokeras.Merge(merge_type=None, **kwargs)\n",
    "```"
   ]
  },
  {
   "cell_type": "markdown",
   "id": "martial-morning",
   "metadata": {},
   "source": [
    "### 参数"
   ]
  },
  {
   "cell_type": "markdown",
   "id": "north-thanks",
   "metadata": {},
   "source": [
    "* `merge_type` 可选[str]：字符串。 “添加”或“连接”。 如果未指定，它将自动调整。"
   ]
  },
  {
   "cell_type": "markdown",
   "id": "seeing-reception",
   "metadata": {},
   "source": [
    "## ResNetBlock"
   ]
  },
  {
   "cell_type": "markdown",
   "id": "boring-links",
   "metadata": {},
   "source": [
    "```Python\n",
    "autokeras.ResNetBlock(version=None, pretrained=None, **kwargs)\n",
    "```"
   ]
  },
  {
   "cell_type": "markdown",
   "id": "failing-mexico",
   "metadata": {},
   "source": [
    "### 参数"
   ]
  },
  {
   "cell_type": "markdown",
   "id": "homeless-feeding",
   "metadata": {},
   "source": [
    "* `version` [str]：字符串。 'v1'，'v2'。 要使用的 ResNet 类型。 如果未指定，它将自动调整。\n",
    "* `pretrained` [bool]：布尔值。 是否使用 ImageNet 预训练权重。 如果未指定，它将自动调整。"
   ]
  },
  {
   "cell_type": "markdown",
   "id": "piano-council",
   "metadata": {},
   "source": [
    "## RNNBlock"
   ]
  },
  {
   "cell_type": "markdown",
   "id": "suspended-quality",
   "metadata": {},
   "source": [
    "```Python\n",
    "autokeras.RNNBlock(\n",
    "    return_sequences=False, bidirectional=None, num_layers=None, layer_type=None, **kwargs\n",
    ")\n",
    "```"
   ]
  },
  {
   "cell_type": "markdown",
   "id": "detected-pharmacy",
   "metadata": {},
   "source": [
    "* `return_sequences` bool：布尔值。 是返回输出序列中的最后一个输出，还是完整的序列。 默认为假。\n",
    "* `bidirectional` 可选[Union[bool, keras_tuner.engine.hyperparameters.Boolean]]：布尔值或keras_tuner.engine.hyperparameters.Boolean。 双向 RNN。 如果未指定，它将自动调整。\n",
    "* `num_layers` 可选[Union[int, keras_tuner.engine.hyperparameters.Choice]]：Int 或 keras_tuner.engine.hyperparameters.Choice。 RNN 中的层数。 如果未指定，它将自动调整。\n",
    "* `layer_type` 可选[Union[str, keras_tuner.engine.hyperparameters.Choice]]：字符串或 keras_tuner.engine.hyperparameters.Choice。 'gru' 或 'lstm'。 如果未指定，它将自动调整。"
   ]
  },
  {
   "cell_type": "markdown",
   "id": "logical-entertainment",
   "metadata": {},
   "source": [
    "## SpatialReduction"
   ]
  },
  {
   "cell_type": "markdown",
   "id": "preliminary-belly",
   "metadata": {},
   "source": [
    "```Python\n",
    "autokeras.SpatialReduction(reduction_type=None, **kwargs)\n",
    "```"
   ]
  },
  {
   "cell_type": "markdown",
   "id": "cordless-madison",
   "metadata": {},
   "source": [
    "减少空间张量的维度，例如 图像，到一个向量。"
   ]
  },
  {
   "cell_type": "markdown",
   "id": "preliminary-montreal",
   "metadata": {},
   "source": [
    "### 参数"
   ]
  },
  {
   "cell_type": "markdown",
   "id": "natural-pastor",
   "metadata": {},
   "source": [
    "* `reduction_type` 可选[str]：字符串。 'flatten'、'global_max' 或 'global_avg'。 如果未指定，它将自动调整。"
   ]
  },
  {
   "cell_type": "markdown",
   "id": "frozen-milan",
   "metadata": {},
   "source": [
    "## TemporalReduction     "
   ]
  },
  {
   "cell_type": "markdown",
   "id": "compact-opening",
   "metadata": {},
   "source": [
    "```Python\n",
    "autokeras.TemporalReduction(reduction_type=None, **kwargs)\n",
    "```"
   ]
  },
  {
   "cell_type": "markdown",
   "id": "active-benjamin",
   "metadata": {},
   "source": [
    "减少时间张量的维度，例如 RNN 的输出，到一个向量。"
   ]
  },
  {
   "cell_type": "markdown",
   "id": "certified-jamaica",
   "metadata": {},
   "source": [
    "* `reduction_type` 可选[str]：字符串。 'flatten'、'global_max' 或 'global_avg'。 如果未指定，它将自动调整。"
   ]
  },
  {
   "cell_type": "markdown",
   "id": "rocky-mayor",
   "metadata": {},
   "source": [
    "## XceptionBlock"
   ]
  },
  {
   "cell_type": "markdown",
   "id": "suitable-puppy",
   "metadata": {},
   "source": [
    "```Python\n",
    "autokeras.XceptionBlock(pretrained=None, **kwargs)\n",
    "```"
   ]
  },
  {
   "cell_type": "markdown",
   "id": "following-trick",
   "metadata": {},
   "source": [
    "Xception 结构，用于指定具有特定数据集的模型。\n",
    "\n",
    "最初的 Xception 架构来自 https://arxiv.org/abs/1610.02357。 数据首先经过入口流，然后经过重复八次的中间流，最后经过出口流。\n",
    "\n",
    "这个 XceptionBlock 返回一个与 Xception 类似的架构，除了没有最后一个（可选）全连接层和逻辑回归。 该架构的大小可以由 HyperParameters 决定，以获得原始架构的一半、相同或两倍大小的架构。"
   ]
  },
  {
   "cell_type": "markdown",
   "id": "serial-limit",
   "metadata": {},
   "source": [
    "### 参数"
   ]
  },
  {
   "cell_type": "markdown",
   "id": "prostate-finland",
   "metadata": {},
   "source": [
    "* `pretrained` 可选[bool]：布尔值。 是否使用 ImageNet 预训练权重。 如果未指定，它将自动调整。"
   ]
  },
  {
   "cell_type": "markdown",
   "id": "expected-courtesy",
   "metadata": {},
   "source": [
    "## ImageBlock"
   ]
  },
  {
   "cell_type": "markdown",
   "id": "amino-reference",
   "metadata": {},
   "source": [
    "```Python\n",
    "autokeras.ImageBlock(block_type=None, normalize=None, augment=None, **kwargs)\n",
    "```"
   ]
  },
  {
   "cell_type": "markdown",
   "id": "consecutive-batch",
   "metadata": {},
   "source": [
    "图像块是从 ResNetBlock、XceptionBlock、ConvBlock 中选择的块，由超参数“block_type”控制。"
   ]
  },
  {
   "cell_type": "markdown",
   "id": "filled-syntax",
   "metadata": {},
   "source": [
    "### 参数"
   ]
  },
  {
   "cell_type": "markdown",
   "id": "administrative-france",
   "metadata": {},
   "source": [
    "* block_type 可选[str]：字符串。 “resnet”、“xception”、“香草”。 要使用的块类型。 如果未指定，它将自动调整。\n",
    "* normalize 可选[bool]：布尔值。 是否按通道标准化图像。 如果未指定，它将自动调整。\n",
    "* augment 扩充可选[bool]：布尔值。 是否进行图像增强。 如果未指定，它将自动调整。"
   ]
  },
  {
   "cell_type": "markdown",
   "id": "august-singing",
   "metadata": {},
   "source": [
    "## StructuredDataBlock"
   ]
  },
  {
   "cell_type": "markdown",
   "id": "retired-concert",
   "metadata": {},
   "source": [
    "```Python\n",
    "autokeras.StructuredDataBlock(categorical_encoding=True, normalize=None, seed=None, **kwargs)\n",
    "```"
   ]
  },
  {
   "cell_type": "markdown",
   "id": "pressing-senior",
   "metadata": {},
   "source": [
    "* `categorical_encoding bool`：布尔值。 是否使用 CategoricalToNumerical 将分类特征编码为数值特征。 默认为真。\n",
    "* `normalize` 可选[bool]：布尔值。 是否对特征进行归一化。 如果未指定，它将自动调整。\n",
    "* `seed` 可选[int]：Int。 随机种子。"
   ]
  },
  {
   "cell_type": "markdown",
   "id": "caring-intellectual",
   "metadata": {},
   "source": [
    "## TextBlock"
   ]
  },
  {
   "cell_type": "markdown",
   "id": "headed-pollution",
   "metadata": {},
   "source": [
    "```Python\n",
    "autokeras.TextBlock(block_type=None, max_tokens=None, pretraining=None, **kwargs)\n",
    "```"
   ]
  },
  {
   "cell_type": "markdown",
   "id": "constant-ground",
   "metadata": {},
   "source": [
    "### 参数"
   ]
  },
  {
   "cell_type": "markdown",
   "id": "featured-adams",
   "metadata": {},
   "source": [
    "* `block_type` 可选[str]：字符串。 “香草”、“变压器”和“ngram”。 要使用的块类型。 'vanilla' 和 'transformer' 使用 TextToIntSequence 向量化器，而 'ngram' 使用 TextToNgramVector。 如果未指定，它将自动调整。\n",
    "* `max_tokens` 可选[int]：整数。 词汇表的最大大小。 如果未指定，它将自动调整。\n",
    "* `pretraining` 可选[str]：字符串。 'random'（使用随机权重代替任何预训练模型）、'glove'、'fasttext' 或 'word2vec'。 使用预训练的词嵌入。 如果未指定，它将自动调整。"
   ]
  },
  {
   "cell_type": "markdown",
   "id": "nearby-operator",
   "metadata": {},
   "source": [
    "## ImageAugmentation"
   ]
  },
  {
   "cell_type": "markdown",
   "id": "center-hormone",
   "metadata": {},
   "source": [
    "```Python\n",
    "autokeras.ImageAugmentation(\n",
    "    translation_factor=None,\n",
    "    vertical_flip=None,\n",
    "    horizontal_flip=None,\n",
    "    rotation_factor=None,\n",
    "    zoom_factor=None,\n",
    "    contrast_factor=None,\n",
    "    **kwargs\n",
    ")\n",
    "```"
   ]
  },
  {
   "cell_type": "markdown",
   "id": "animated-alberta",
   "metadata": {},
   "source": [
    "* `translation_factor` 可选[Union[float, Tuple[float, float]]]：表示为分数值的正浮点数，或表示垂直和水平平移分数的 2 元组。例如，translation_factor=0.2 导致在宽度和高度的 20% 内的随机平移因子。如果未指定，它将自动调整。\n",
    "* `Vertical_flip` 可选[bool]：布尔值。是否垂直翻转图像。如果未指定，它将自动调整。\n",
    "* `horizontal_flip` 可选[bool]：布尔值。是否水平翻转图像。如果未指定，它将自动调整。\n",
    "* `rotation_factor` 可选[浮动]：浮动。正浮点数表示为顺时针和逆时针旋转的 2pi 上限的分数。当表示为单个浮点数时，下 = 上。如果未指定，它将自动调整。\n",
    "* `zoom_factor` 可选[Union[float, Tuple[float, float]]]：表示为分数值的正浮点数，或表示用于垂直和水平缩放的分数的 2 元组。例如，zoom_factor=0.2 会产生从 80% 到 120% 的随机缩放系数。如果未指定，它将自动调整。\n",
    "* `contrast_factor` 可选[Union[float, Tuple[float, float]]]：表示为值的分数的正浮点数，或表示下限和上限的大小为 2 的元组。当表示为单个浮点数时，下 = 上。对比度因子将在 [1.0 - lower, 1.0 + upper] 之间随机选择。如果未指定，它将自动调整。"
   ]
  },
  {
   "cell_type": "markdown",
   "id": "relative-means",
   "metadata": {},
   "source": [
    "## Normalization"
   ]
  },
  {
   "cell_type": "markdown",
   "id": "expected-crown",
   "metadata": {},
   "source": [
    "```Python\n",
    "autokeras.Normalization(axis=-1, **kwargs)\n",
    "```"
   ]
  },
  {
   "cell_type": "markdown",
   "id": "durable-locking",
   "metadata": {},
   "source": [
    "有关更多信息，请参阅 keras 预处理层中的规范化层。"
   ]
  },
  {
   "cell_type": "markdown",
   "id": "surprising-integrity",
   "metadata": {},
   "source": [
    "### 参数"
   ]
  },
  {
   "cell_type": "markdown",
   "id": "desirable-maine",
   "metadata": {},
   "source": [
    "* `axis` int：整数或整数元组，应该归一化的一个或多个轴（通常是特征轴）。 我们将对指定轴上的每个元素进行标准化。 默认为“-1”（最里面的轴）； 0（批处理轴）是不允许的。"
   ]
  },
  {
   "cell_type": "markdown",
   "id": "sized-intranet",
   "metadata": {},
   "source": [
    "## TextToIntSequence"
   ]
  },
  {
   "cell_type": "markdown",
   "id": "incoming-bernard",
   "metadata": {},
   "source": [
    "```Python\n",
    "autokeras.TextToIntSequence(output_sequence_length=None, max_tokens=20000, **kwargs)\n",
    "```"
   ]
  },
  {
   "cell_type": "markdown",
   "id": "likely-patio",
   "metadata": {},
   "source": [
    "将原始文本转换为单词索引序列。"
   ]
  },
  {
   "cell_type": "markdown",
   "id": "invalid-feedback",
   "metadata": {},
   "source": [
    "### 参数"
   ]
  },
  {
   "cell_type": "markdown",
   "id": "black-nerve",
   "metadata": {},
   "source": [
    "* `output_sequence_length` 可选[int]：整数。 句子的最大长度。 如果未指定，它将自动调整。\n",
    "* `max_tokens int`: 整数。 词汇表的最大大小。 默认为 20000。"
   ]
  },
  {
   "cell_type": "markdown",
   "id": "centered-bishop",
   "metadata": {},
   "source": [
    "## TextToNgramVector"
   ]
  },
  {
   "cell_type": "markdown",
   "id": "hydraulic-matrix",
   "metadata": {},
   "source": [
    "```Python\n",
    "autokeras.TextToNgramVector(max_tokens=20000, ngrams=None, **kwargs)\n",
    "```"
   ]
  },
  {
   "cell_type": "markdown",
   "id": "applied-executive",
   "metadata": {},
   "source": [
    "将原始文本转换为 n-gram 向量。"
   ]
  },
  {
   "cell_type": "markdown",
   "id": "bored-channels",
   "metadata": {},
   "source": [
    "### 参数"
   ]
  },
  {
   "cell_type": "markdown",
   "id": "responsible-gathering",
   "metadata": {},
   "source": [
    "* `max_tokens int`: 整数。 词汇表的最大大小。 默认为 20000。\n",
    "* `ngrams` 可选[Union[int, Tuple[int]]]：整数或整数元组。 传递一个整数将创建 ngrams 到那个整数，并且传递一个整数元组将为元组中的指定值创建 ngrams。 如果未指定，它将自动调整。"
   ]
  },
  {
   "cell_type": "markdown",
   "id": "severe-pasta",
   "metadata": {},
   "source": [
    "## CategoricalToNumerical"
   ]
  },
  {
   "cell_type": "markdown",
   "id": "turkish-chain",
   "metadata": {},
   "source": [
    "```Python\n",
    "autokeras.CategoricalToNumerical(**kwargs)\n",
    "```"
   ]
  },
  {
   "cell_type": "markdown",
   "id": "naked-shape",
   "metadata": {},
   "source": [
    "将分类特征编码为数值特征。"
   ]
  },
  {
   "cell_type": "markdown",
   "id": "competitive-muslim",
   "metadata": {},
   "source": [
    "## ClassificationHead"
   ]
  },
  {
   "cell_type": "markdown",
   "id": "oriented-specification",
   "metadata": {},
   "source": [
    "```Python\n",
    "autokeras.ClassificationHead(\n",
    "    num_classes=None, multi_label=False, loss=None, metrics=None, dropout=None, **kwargs\n",
    ")\n",
    "```"
   ]
  },
  {
   "cell_type": "markdown",
   "id": "incorrect-secretariat",
   "metadata": {},
   "source": [
    "使用 sigmoid 和二元交叉熵进行二元分类和多标签分类。 使用 softmax 和分类交叉熵进行多类（超过 2 个）分类。 默认情况下使用准确度作为指标。\n",
    "\n",
    "传递到头部的目标必须是 tf.data.Dataset、np.ndarray、pd.DataFrame 或 pd.Series。 它可以是原始标签，如果有两个以上的类，则进行单热编码，或用于二进制分类的二进制编码。\n",
    "\n",
    "如果找到两个类，原始标签将被编码为一列，如果找到两个以上的类，则将原始标签编码为一列。"
   ]
  },
  {
   "cell_type": "markdown",
   "id": "micro-navigator",
   "metadata": {},
   "source": [
    "### 参数"
   ]
  },
  {
   "cell_type": "markdown",
   "id": "elder-familiar",
   "metadata": {},
   "source": [
    "* `num_classes` 可选[int]：整数。 默认为无。 如果没有，它将从数据中推断出来。\n",
    "* `multi_label` bool：布尔值。 默认为假。\n",
    "* `loss Optional` [Union[str, Callable]]：Keras 损失函数。 默认使用 binary_crossentropy 或 categorical_crossentropy 基于类的数量。\n",
    "* `metrics` 可选[Union[List[Union[Callable, str]], List[List[Union[Callable, str]]], Dict[str, Union[str, Callable]]]]：Keras 指标列表。 默认使用“准确度”。\n",
    "* `dropout` 可选[浮动]：浮动。 层的丢失率。 如果未指定，它将自动调整。"
   ]
  },
  {
   "cell_type": "markdown",
   "id": "sticky-jacksonville",
   "metadata": {},
   "source": [
    "## RegressionHead"
   ]
  },
  {
   "cell_type": "markdown",
   "id": "regulated-thesis",
   "metadata": {},
   "source": [
    "```Python\n",
    "autokeras.RegressionHead(\n",
    "    output_dim=None, loss=\"mean_squared_error\", metrics=None, dropout=None, **kwargs\n",
    ")\n",
    "```"
   ]
  },
  {
   "cell_type": "markdown",
   "id": "adopted-painting",
   "metadata": {},
   "source": [
    "传递到头部的目标必须是 tf.data.Dataset、np.ndarray、pd.DataFrame 或 pd.Series。 它可以是单列或多列。 这些值都应该是数字。"
   ]
  },
  {
   "cell_type": "markdown",
   "id": "purple-agreement",
   "metadata": {},
   "source": [
    "* `output_dim` 可选[int]：整数。 输出维度的数量。 默认为无。 如果没有，它将从数据中推断出来。\n",
    "* `multi_label`：布尔值。 默认为假。\n",
    "* `loss Union` [str, Callable]：Keras 损失函数。 默认使用 mean_squared_error。\n",
    "* `metrics` 可选[Union[List[Union[Callable, str]], List[List[Union[Callable, str]]], Dict[str, Union[str, Callable]]]]：Keras 指标列表。 默认使用 mean_squared_error。\n",
    "* `dropout` 可选[浮动]：浮动。 层的丢失率。 如果未指定，它将自动调整。"
   ]
  },
  {
   "cell_type": "code",
   "execution_count": null,
   "id": "friendly-algorithm",
   "metadata": {},
   "outputs": [],
   "source": []
  }
 ],
 "metadata": {
  "kernelspec": {
   "display_name": "Python [conda env:tensorflow]",
   "language": "python",
   "name": "conda-env-tensorflow-py"
  },
  "language_info": {
   "codemirror_mode": {
    "name": "ipython",
    "version": 3
   },
   "file_extension": ".py",
   "mimetype": "text/x-python",
   "name": "python",
   "nbconvert_exporter": "python",
   "pygments_lexer": "ipython3",
   "version": "3.8.10"
  }
 },
 "nbformat": 4,
 "nbformat_minor": 5
}
