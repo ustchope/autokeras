{
 "cells": [
  {
   "cell_type": "markdown",
   "id": "antique-projection",
   "metadata": {},
   "source": [
    "# 定制模型"
   ]
  },
  {
   "cell_type": "code",
   "execution_count": 2,
   "id": "super-separation",
   "metadata": {},
   "outputs": [],
   "source": [
    "import numpy as np\n",
    "import tensorflow as tf\n",
    "from tensorflow.keras.datasets import mnist\n",
    "\n",
    "import autokeras as ak"
   ]
  },
  {
   "cell_type": "code",
   "execution_count": 3,
   "id": "gentle-prague",
   "metadata": {},
   "outputs": [],
   "source": [
    "gpus = tf.config.list_physical_devices(\"GPU\")\n",
    "\n",
    "if gpus:\n",
    "   \n",
    "    gpu0 = gpus[2] #如果有多个GPU，仅使用第0个GPU\n",
    "    tf.config.experimental.set_memory_growth(gpu0, True) #设置GPU显存用量按需使用\n",
    "    # 或者也可以设置GPU显存为固定使用量(例如：4G)\n",
    "    #tf.config.experimental.set_virtual_device_configuration(gpu0,\n",
    "    #    [tf.config.experimental.VirtualDeviceConfiguration(memory_limit=4096)]) \n",
    "    tf.config.set_visible_devices([gpu0],\"GPU\") "
   ]
  },
  {
   "cell_type": "markdown",
   "id": "varied-compact",
   "metadata": {},
   "source": [
    "在本教程中，我们将展示如何使用 AutoModel 自定义您的搜索空间，以及如何将您自己的模块实现为搜索空间。 这个 API 主要面向已经知道他们的模型应该是什么样子的高级用户。"
   ]
  },
  {
   "cell_type": "markdown",
   "id": "elder-hunger",
   "metadata": {},
   "source": [
    "## 自定义搜索空间"
   ]
  },
  {
   "cell_type": "markdown",
   "id": "casual-fruit",
   "metadata": {},
   "source": [
    "首先，让我们看看如何使用 AutoKeras 中的构建块构建以下神经网络。"
   ]
  },
  {
   "cell_type": "markdown",
   "id": "weird-belize",
   "metadata": {},
   "source": [
    "![](https://tva1.sinaimg.cn/large/008i3skNly1gs9qgphwsrj312q06qmxt.jpg)"
   ]
  },
  {
   "cell_type": "markdown",
   "id": "lonely-intent",
   "metadata": {},
   "source": [
    "我们可以利用 AutoKeras 中的 AutoModel API 来实现如下。 用法与 Keras 函数式 API 相同。 由于这只是一个演示，我们使用了少量的 max_trials 和 epochs。"
   ]
  },
  {
   "cell_type": "code",
   "execution_count": 4,
   "id": "social-oxford",
   "metadata": {},
   "outputs": [],
   "source": [
    "input_node = ak.ImageInput()\n",
    "output_node = ak.Normalization()(input_node)\n",
    "output_node1 = ak.ConvBlock()(output_node)\n",
    "output_node2 = ak.ResNetBlock(version=\"v2\")(output_node)\n",
    "output_node = ak.Merge()([output_node1, output_node2])\n",
    "output_node = ak.ClassificationHead()(output_node)\n",
    "\n",
    "auto_model = ak.AutoModel(\n",
    "    inputs=input_node, outputs=output_node, overwrite=True, max_trials=1\n",
    ")"
   ]
  },
  {
   "cell_type": "markdown",
   "id": "associate-master",
   "metadata": {},
   "source": [
    "在构建模型时，使用的块需要遵循以下拓扑：预处理器 -> 块 -> 头部。 Normalization 和 ImageAugmentation 是预处理器。 分类头就是头。 其余的是块。\n",
    "\n",
    "在上面的代码中，我们使用 ak.ResNetBlock(version='v2') 来指定要使用的 ResNet 版本。 还有许多其他参数要为每个构建块指定。 对于大多数参数，如果未指定，它们将自动调整。 有关更多详细信息，请参阅页面底部的文档链接。\n",
    "\n",
    "然后，我们准备一些数据来运行模型。"
   ]
  },
  {
   "cell_type": "code",
   "execution_count": 9,
   "id": "regional-language",
   "metadata": {},
   "outputs": [
    {
     "name": "stdout",
     "output_type": "stream",
     "text": [
      "(60000, 28, 28)\n",
      "(60000,)\n",
      "[5 0 4]\n"
     ]
    }
   ],
   "source": [
    "(x_train, y_train), (x_test, y_test) = mnist.load_data()\n",
    "print(x_train.shape)  # (60000, 28, 28)\n",
    "print(y_train.shape)  # (60000,)\n",
    "print(y_train[:3])  # array([7, 2, 1], dtype=uint8)"
   ]
  },
  {
   "cell_type": "code",
   "execution_count": 10,
   "id": "standing-front",
   "metadata": {},
   "outputs": [],
   "source": [
    "# Feed the AutoModel with training data.\n",
    "auto_model.fit(x_train[:100], y_train[:100], epochs=1)"
   ]
  },
  {
   "cell_type": "code",
   "execution_count": 7,
   "id": "developmental-geneva",
   "metadata": {},
   "outputs": [
    {
     "name": "stdout",
     "output_type": "stream",
     "text": [
      "313/313 [==============================] - 5s 16ms/step\n"
     ]
    }
   ],
   "source": [
    "# Predict with the best model.\n",
    "predicted_y = auto_model.predict(x_test)"
   ]
  },
  {
   "cell_type": "code",
   "execution_count": 11,
   "id": "stretch-heart",
   "metadata": {},
   "outputs": [
    {
     "name": "stdout",
     "output_type": "stream",
     "text": [
      "313/313 [==============================] - 9s 24ms/step - loss: 2.2670 - accuracy: 0.1660\n",
      "[2.2670044898986816, 0.16599999368190765]\n"
     ]
    }
   ],
   "source": [
    "# Evaluate the best model with testing data.\n",
    "print(auto_model.evaluate(x_test, y_test))"
   ]
  },
  {
   "cell_type": "markdown",
   "id": "novel-cigarette",
   "metadata": {},
   "source": [
    "对于多输入节点和多头搜索空间，可以参考本节。"
   ]
  },
  {
   "cell_type": "markdown",
   "id": "cognitive-spirituality",
   "metadata": {},
   "source": [
    "## 验证数据"
   ]
  },
  {
   "cell_type": "markdown",
   "id": "partial-insider",
   "metadata": {},
   "source": [
    "如果您想提供自己的验证数据或更改验证数据的比例，请参阅图像分类、文本分类、结构化数据分类、多任务和多重验证教程的验证数据部分。"
   ]
  },
  {
   "cell_type": "markdown",
   "id": "reasonable-trauma",
   "metadata": {},
   "source": [
    "## 数据格式"
   ]
  },
  {
   "cell_type": "markdown",
   "id": "offshore-helicopter",
   "metadata": {},
   "source": [
    "不同类型数据的格式可以参考ImageInput、StructuredDataInput、TextInput、RegressionHead、ClassificationHead的文档。 也可以参考图像分类、文本分类、结构化数据分类教程的数据格式部分。"
   ]
  },
  {
   "cell_type": "markdown",
   "id": "controversial-shopper",
   "metadata": {},
   "source": [
    "## 实现新模块"
   ]
  },
  {
   "cell_type": "markdown",
   "id": "apparent-inclusion",
   "metadata": {},
   "source": [
    "您可以扩展 Block 类以实现您自己的构建块并将其与 AutoModel 一起使用。\n",
    "\n",
    "第一步是学习如何为 KerasTuner 编写build函数。 您需要覆盖块的build函数。 下面的例子展示了如何实现一个单一的 Dense 层块，它的神经元数量是可调的。"
   ]
  },
  {
   "cell_type": "code",
   "execution_count": 18,
   "id": "vietnamese-diary",
   "metadata": {},
   "outputs": [],
   "source": [
    "class SingleDenseLayerBlock(ak.Block):\n",
    "    def build(self, hp, inputs=None):\n",
    "        # Get the input_node from inputs.\n",
    "        input_node = tf.nest.flatten(inputs)[0]\n",
    "        layer = tf.keras.layers.Dense(\n",
    "            hp.Int(\"num_units\", min_value=32, max_value=512, step=32)\n",
    "        )\n",
    "        output_node = layer(input_node)\n",
    "        return output_node"
   ]
  },
  {
   "cell_type": "markdown",
   "id": "ongoing-feature",
   "metadata": {},
   "source": [
    "您可以将其与其他模块连接并将其构建到 AutoModel 中。"
   ]
  },
  {
   "cell_type": "code",
   "execution_count": 19,
   "id": "frank-budget",
   "metadata": {},
   "outputs": [],
   "source": [
    "# Build the AutoModel\n",
    "input_node = ak.Input()\n",
    "output_node = SingleDenseLayerBlock()(input_node)\n",
    "output_node = ak.RegressionHead()(output_node)"
   ]
  },
  {
   "cell_type": "code",
   "execution_count": 20,
   "id": "anonymous-choir",
   "metadata": {},
   "outputs": [],
   "source": [
    "auto_model = ak.AutoModel(input_node, output_node, overwrite=True, max_trials=1)"
   ]
  },
  {
   "cell_type": "code",
   "execution_count": 21,
   "id": "mathematical-slovakia",
   "metadata": {},
   "outputs": [],
   "source": [
    "# Prepare Data\n",
    "num_instances = 100\n",
    "x_train = np.random.rand(num_instances, 20).astype(np.float32)\n",
    "y_train = np.random.rand(num_instances, 1).astype(np.float32)\n",
    "x_test = np.random.rand(num_instances, 20).astype(np.float32)\n",
    "y_test = np.random.rand(num_instances, 1).astype(np.float32)"
   ]
  },
  {
   "cell_type": "code",
   "execution_count": 22,
   "id": "billion-winning",
   "metadata": {},
   "outputs": [
    {
     "name": "stdout",
     "output_type": "stream",
     "text": [
      "Trial 1 Complete [00h 00m 03s]\n",
      "val_loss: 0.1839132010936737\n",
      "\n",
      "Best val_loss So Far: 0.1839132010936737\n",
      "Total elapsed time: 00h 00m 03s\n",
      "INFO:tensorflow:Oracle triggered exit\n",
      "4/4 [==============================] - 0s 13ms/step - loss: 3.3517 - mean_squared_error: 3.3517\n",
      "INFO:tensorflow:Assets written to: ./auto_model/best_model/assets\n"
     ]
    }
   ],
   "source": [
    "# Train the model\n",
    "auto_model.fit(x_train, y_train, epochs=1)"
   ]
  },
  {
   "cell_type": "code",
   "execution_count": 23,
   "id": "educational-vault",
   "metadata": {},
   "outputs": [
    {
     "name": "stdout",
     "output_type": "stream",
     "text": [
      "WARNING:tensorflow:5 out of the last 320 calls to <function Model.make_test_function.<locals>.test_function at 0x7fe51c694dc0> triggered tf.function retracing. Tracing is expensive and the excessive number of tracings could be due to (1) creating @tf.function repeatedly in a loop, (2) passing tensors with different shapes, (3) passing Python objects instead of tensors. For (1), please define your @tf.function outside of the loop. For (2), @tf.function has experimental_relax_shapes=True option that relaxes argument shapes that can avoid unnecessary retracing. For (3), please refer to https://www.tensorflow.org/guide/function#controlling_retracing and https://www.tensorflow.org/api_docs/python/tf/function for  more details.\n",
      "4/4 [==============================] - 0s 8ms/step - loss: 2.3558 - mean_squared_error: 2.3558\n",
      "[2.3558390140533447, 2.3558390140533447]\n"
     ]
    }
   ],
   "source": [
    "print(auto_model.evaluate(x_train, y_test))"
   ]
  },
  {
   "cell_type": "code",
   "execution_count": 26,
   "id": "hungarian-flush",
   "metadata": {},
   "outputs": [
    {
     "name": "stdout",
     "output_type": "stream",
     "text": [
      "Model: \"model\"\n",
      "_________________________________________________________________\n",
      "Layer (type)                 Output Shape              Param #   \n",
      "=================================================================\n",
      "input_1 (InputLayer)         [(None, 20)]              0         \n",
      "_________________________________________________________________\n",
      "cast_to_float32 (CastToFloat (None, 20)                0         \n",
      "_________________________________________________________________\n",
      "dense (Dense)                (None, 32)                672       \n",
      "_________________________________________________________________\n",
      "dropout (Dropout)            (None, 32)                0         \n",
      "_________________________________________________________________\n",
      "regression_head_1 (Dense)    (None, 1)                 33        \n",
      "=================================================================\n",
      "Total params: 705\n",
      "Trainable params: 705\n",
      "Non-trainable params: 0\n",
      "_________________________________________________________________\n"
     ]
    }
   ],
   "source": [
    "model = auto_model.export_model()\n",
    "model.summary()"
   ]
  },
  {
   "cell_type": "code",
   "execution_count": 27,
   "id": "recreational-spell",
   "metadata": {},
   "outputs": [
    {
     "name": "stdout",
     "output_type": "stream",
     "text": [
      "INFO:tensorflow:Assets written to: model/assets\n"
     ]
    }
   ],
   "source": [
    "model.save('model')"
   ]
  },
  {
   "cell_type": "code",
   "execution_count": 28,
   "id": "headed-maldives",
   "metadata": {},
   "outputs": [],
   "source": [
    "from tensorflow.keras.utils import plot_model\n",
    "from tensorflow.keras.models import load_model"
   ]
  },
  {
   "cell_type": "code",
   "execution_count": 29,
   "id": "american-toolbox",
   "metadata": {},
   "outputs": [
    {
     "data": {
      "text/plain": [
       "array([[-1.0286503 ],\n",
       "       [-0.9041684 ],\n",
       "       [-0.43178535],\n",
       "       [-0.873243  ],\n",
       "       [-0.48328778],\n",
       "       [-1.3547837 ],\n",
       "       [-0.8065924 ],\n",
       "       [-1.3461953 ],\n",
       "       [-0.8086336 ],\n",
       "       [-1.3170116 ],\n",
       "       [-0.9794483 ],\n",
       "       [-1.0683401 ],\n",
       "       [-0.6362567 ],\n",
       "       [-1.0264895 ],\n",
       "       [-0.36868915],\n",
       "       [-0.9245316 ],\n",
       "       [-1.20373   ],\n",
       "       [-0.864015  ],\n",
       "       [-0.68839157],\n",
       "       [-1.5398457 ],\n",
       "       [-1.631917  ],\n",
       "       [-0.48632136],\n",
       "       [-1.2327219 ],\n",
       "       [-0.48484433],\n",
       "       [-0.5243217 ],\n",
       "       [-0.6760967 ],\n",
       "       [-1.5428727 ],\n",
       "       [-0.930148  ],\n",
       "       [-1.2085894 ],\n",
       "       [-1.0193168 ],\n",
       "       [-0.88419235],\n",
       "       [-1.1695962 ],\n",
       "       [-0.37846854],\n",
       "       [-0.8203037 ],\n",
       "       [-0.76416177],\n",
       "       [-1.5360143 ],\n",
       "       [-1.4622806 ],\n",
       "       [-0.66567326],\n",
       "       [-1.3033502 ],\n",
       "       [-0.84644365],\n",
       "       [-0.59045357],\n",
       "       [-1.4576485 ],\n",
       "       [-1.1818261 ],\n",
       "       [-1.3567686 ],\n",
       "       [-1.3793154 ],\n",
       "       [-1.5794866 ],\n",
       "       [-0.6820156 ],\n",
       "       [-1.8365803 ],\n",
       "       [-1.4033167 ],\n",
       "       [-1.1613561 ],\n",
       "       [-1.2042122 ],\n",
       "       [-1.0413111 ],\n",
       "       [-1.240309  ],\n",
       "       [-1.4468362 ],\n",
       "       [-0.98527336],\n",
       "       [-1.3226632 ],\n",
       "       [-0.84037614],\n",
       "       [-1.317231  ],\n",
       "       [-1.4860623 ],\n",
       "       [-1.4634306 ],\n",
       "       [-1.3271532 ],\n",
       "       [-0.5419653 ],\n",
       "       [-0.995229  ],\n",
       "       [-1.0912509 ],\n",
       "       [-1.056433  ],\n",
       "       [-1.5106996 ],\n",
       "       [-0.9955037 ],\n",
       "       [-0.61714584],\n",
       "       [-0.3057689 ],\n",
       "       [-1.1875263 ],\n",
       "       [-1.2427393 ],\n",
       "       [-0.88372064],\n",
       "       [-0.91170937],\n",
       "       [-1.1032106 ],\n",
       "       [-1.3224884 ],\n",
       "       [-1.0315732 ],\n",
       "       [-0.8379013 ],\n",
       "       [-0.8702622 ],\n",
       "       [-1.6964339 ],\n",
       "       [-0.6148488 ],\n",
       "       [-1.4375613 ],\n",
       "       [-1.1799784 ],\n",
       "       [-0.73826236],\n",
       "       [-1.2959462 ],\n",
       "       [-1.4684379 ],\n",
       "       [-0.6591312 ],\n",
       "       [ 0.07921095],\n",
       "       [-1.194765  ],\n",
       "       [-0.70991474],\n",
       "       [-0.57749   ],\n",
       "       [-0.38726005],\n",
       "       [-1.1075382 ],\n",
       "       [-1.3424011 ],\n",
       "       [-0.9054587 ],\n",
       "       [-0.7296807 ],\n",
       "       [-0.99588567],\n",
       "       [-0.48469913],\n",
       "       [-1.01625   ],\n",
       "       [-1.5580603 ],\n",
       "       [-1.2350992 ]], dtype=float32)"
      ]
     },
     "execution_count": 29,
     "metadata": {},
     "output_type": "execute_result"
    }
   ],
   "source": [
    "load_model('model').predict(x_test)"
   ]
  }
 ],
 "metadata": {
  "kernelspec": {
   "display_name": "Python [conda env:tensorflow]",
   "language": "python",
   "name": "conda-env-tensorflow-py"
  },
  "language_info": {
   "codemirror_mode": {
    "name": "ipython",
    "version": 3
   },
   "file_extension": ".py",
   "mimetype": "text/x-python",
   "name": "python",
   "nbconvert_exporter": "python",
   "pygments_lexer": "ipython3",
   "version": "3.8.10"
  }
 },
 "nbformat": 4,
 "nbformat_minor": 5
}
