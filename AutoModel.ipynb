{
 "cells": [
  {
   "cell_type": "markdown",
   "id": "trying-kingdom",
   "metadata": {},
   "source": [
    "# AutoModel"
   ]
  },
  {
   "cell_type": "code",
   "execution_count": null,
   "id": "defensive-productivity",
   "metadata": {},
   "outputs": [],
   "source": [
    "autokeras.AutoModel(\n",
    "    inputs,\n",
    "    outputs,\n",
    "    project_name=\"auto_model\",\n",
    "    max_trials=100,\n",
    "    directory=None,\n",
    "    objective=\"val_loss\",\n",
    "    tuner=\"greedy\",\n",
    "    overwrite=False,\n",
    "    seed=None,\n",
    "    max_model_size=None,\n",
    "    **kwargs\n",
    ")"
   ]
  },
  {
   "cell_type": "markdown",
   "id": "apparent-favorite",
   "metadata": {},
   "source": [
    "由输入和输出定义的模型。 AutoModel 结合了 HyperModel 和 Tuner 来调整 HyperModel。 用户可以以类似于 Keras 模型的方式使用它，因为它也有 fit() 和 predict() 方法。\n",
    "\n",
    "AutoModel 有两个用例。 在第一种情况下，用户只指定 AutoModel 的输入节点和输出头。 AutoModel 推断模型的其余部分。 在第二种情况下，用户可以通过将 Blocks 与功能 API 连接来指定 AutoModel 的高级架构，这与 Keras 功能 API 相同。"
   ]
  },
  {
   "cell_type": "markdown",
   "id": "included-concentration",
   "metadata": {},
   "source": [
    "## 例子"
   ]
  },
  {
   "cell_type": "code",
   "execution_count": 3,
   "id": "adolescent-poverty",
   "metadata": {},
   "outputs": [
    {
     "name": "stdout",
     "output_type": "stream",
     "text": [
      "INFO:tensorflow:Reloading Oracle from existing project ./auto_model/oracle.json\n",
      "INFO:tensorflow:Reloading Tuner from ./auto_model/tuner0.json\n"
     ]
    },
    {
     "data": {
      "text/plain": [
       "<autokeras.auto_model.AutoModel at 0x7fdbc6f94be0>"
      ]
     },
     "execution_count": 3,
     "metadata": {},
     "output_type": "execute_result"
    }
   ],
   "source": [
    "# 用户只指定输入节点和输出头\n",
    "import autokeras as ak\n",
    "ak.AutoModel(\n",
    "    inputs=[ak.ImageInput(), ak.TextInput()],\n",
    "    outputs=[ak.ClassificationHead(), ak.RegressionHead()]\n",
    ")"
   ]
  },
  {
   "cell_type": "code",
   "execution_count": 4,
   "id": "human-comfort",
   "metadata": {},
   "outputs": [
    {
     "name": "stdout",
     "output_type": "stream",
     "text": [
      "INFO:tensorflow:Reloading Oracle from existing project ./auto_model/oracle.json\n",
      "INFO:tensorflow:Reloading Tuner from ./auto_model/tuner0.json\n"
     ]
    },
    {
     "data": {
      "text/plain": [
       "<autokeras.auto_model.AutoModel at 0x7fdbc475c970>"
      ]
     },
     "execution_count": 4,
     "metadata": {},
     "output_type": "execute_result"
    }
   ],
   "source": [
    "# 用户指定高层架构\n",
    "import autokeras as ak\n",
    "image_input = ak.ImageInput()\n",
    "image_output = ak.ImageBlock()(image_input)\n",
    "text_input = ak.TextInput()\n",
    "text_output = ak.TextBlock()(text_input)\n",
    "output = ak.Merge()([image_output, text_output])\n",
    "classification_output = ak.ClassificationHead()(output)\n",
    "regression_output = ak.RegressionHead()(output)\n",
    "ak.AutoModel(\n",
    "    inputs=[image_input, text_input],\n",
    "    outputs=[classification_output, regression_output]\n",
    ")"
   ]
  },
  {
   "cell_type": "markdown",
   "id": "nervous-demographic",
   "metadata": {},
   "source": [
    "## 参数"
   ]
  },
  {
   "cell_type": "markdown",
   "id": "robust-cooper",
   "metadata": {},
   "source": [
    "* `inputs` Union[autokeras.Input, List[autokeras.Input]]：节点实例列表。 AutoModel 的输入节点。\n",
    "* `ouputs` Union[autokeras.Head, autokeras.Node, list]：节点或头部实例的列表。 AutoModel 的输出节点或头。\n",
    "* `project_name` str：字符串。 AutoModel 的名称。默认为“auto_model”。\n",
    "* `max_trials` int: 整数。要尝试的不同 Keras 模型的最大数量。搜索可能会在达到 max_trials 之前完成。默认为 100。\n",
    "* `directory` 可选[Union[str, pathlib.Path]]：字符串。用于存储搜索输出的目录的路径。默认为 None，这将在当前目录中创建一个具有 AutoModel 名称的文件夹。\n",
    "* `objective` 字符串：字符串。要最小化或最大化的模型度量的名称，例如'val_accuracy'。默认为“val_loss”。\n",
    "* `tuner` Union[str, Type[autokeras.engine.tuner.AutoTuner]]：字符串或 AutoTuner 的子类。如果是字符串，它应该是 'greedy'、'bayesian'、'hyperband' 或 'random' 之一。它也可以是 AutoTuner 的子类。默认为“贪婪”。\n",
    "* `overwrite` 布尔值：布尔值。默认为假。如果为 False，则重新加载同名的现有项目（如果找到）。否则，覆盖项目。\n",
    "* `seed` 可选[int]：Int。随机种子。\n",
    "* `max_model_size` 可选 [int]：整数。模型参数中标量的最大数量。大于此值的模型将被拒绝。\n",
    "* `**kwargs`：keras_tuner.Tuner 支持的任何参数。"
   ]
  },
  {
   "cell_type": "code",
   "execution_count": null,
   "id": "dependent-plant",
   "metadata": {},
   "outputs": [],
   "source": []
  }
 ],
 "metadata": {
  "kernelspec": {
   "display_name": "Python [conda env:tensorflow]",
   "language": "python",
   "name": "conda-env-tensorflow-py"
  },
  "language_info": {
   "codemirror_mode": {
    "name": "ipython",
    "version": 3
   },
   "file_extension": ".py",
   "mimetype": "text/x-python",
   "name": "python",
   "nbconvert_exporter": "python",
   "pygments_lexer": "ipython3",
   "version": "3.8.10"
  }
 },
 "nbformat": 4,
 "nbformat_minor": 5
}
