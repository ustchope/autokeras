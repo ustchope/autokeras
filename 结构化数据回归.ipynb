{
 "cells": [
  {
   "cell_type": "code",
   "execution_count": 3,
   "id": "advisory-pontiac",
   "metadata": {},
   "outputs": [
    {
     "data": {
      "text/plain": [
       "'/public/huangwei/test/autokeras'"
      ]
     },
     "execution_count": 3,
     "metadata": {},
     "output_type": "execute_result"
    }
   ],
   "source": [
    "pwd"
   ]
  },
  {
   "cell_type": "markdown",
   "id": "upper-winter",
   "metadata": {},
   "source": [
    "# 结构化数据回归"
   ]
  },
  {
   "cell_type": "code",
   "execution_count": 1,
   "id": "fancy-dating",
   "metadata": {},
   "outputs": [],
   "source": [
    "import numpy as np\n",
    "import pandas as pd\n",
    "import tensorflow as tf\n",
    "from sklearn.datasets import fetch_california_housing\n",
    "\n",
    "import autokeras as ak"
   ]
  },
  {
   "cell_type": "code",
   "execution_count": 2,
   "id": "gorgeous-allocation",
   "metadata": {},
   "outputs": [],
   "source": [
    "gpus = tf.config.list_physical_devices(\"GPU\")\n",
    "\n",
    "if gpus:\n",
    "   \n",
    "    gpu0 = gpus[2] #如果有多个GPU，仅使用第0个GPU\n",
    "    tf.config.experimental.set_memory_growth(gpu0, True) #设置GPU显存用量按需使用\n",
    "    # 或者也可以设置GPU显存为固定使用量(例如：4G)\n",
    "    #tf.config.experimental.set_virtual_device_configuration(gpu0,\n",
    "    #    [tf.config.experimental.VirtualDeviceConfiguration(memory_limit=4096)]) \n",
    "    tf.config.set_visible_devices([gpu0],\"GPU\") "
   ]
  },
  {
   "cell_type": "code",
   "execution_count": 3,
   "id": "statistical-gilbert",
   "metadata": {},
   "outputs": [
    {
     "data": {
      "text/plain": [
       "[PhysicalDevice(name='/physical_device:GPU:0', device_type='GPU'),\n",
       " PhysicalDevice(name='/physical_device:GPU:1', device_type='GPU'),\n",
       " PhysicalDevice(name='/physical_device:GPU:2', device_type='GPU'),\n",
       " PhysicalDevice(name='/physical_device:GPU:3', device_type='GPU')]"
      ]
     },
     "execution_count": 3,
     "metadata": {},
     "output_type": "execute_result"
    }
   ],
   "source": [
    "gpus"
   ]
  },
  {
   "cell_type": "markdown",
   "id": "functional-colony",
   "metadata": {},
   "source": [
    "## 一个简单的例子"
   ]
  },
  {
   "cell_type": "markdown",
   "id": "attractive-spending",
   "metadata": {},
   "source": [
    "第一步是准备数据。 这里我们以加州住房数据集为例。"
   ]
  },
  {
   "cell_type": "code",
   "execution_count": 4,
   "id": "metropolitan-presence",
   "metadata": {},
   "outputs": [],
   "source": [
    "house_dataset = fetch_california_housing()"
   ]
  },
  {
   "cell_type": "code",
   "execution_count": 7,
   "id": "operational-nothing",
   "metadata": {},
   "outputs": [
    {
     "data": {
      "text/plain": [
       "{'data': array([[   8.3252    ,   41.        ,    6.98412698, ...,    2.55555556,\n",
       "           37.88      , -122.23      ],\n",
       "        [   8.3014    ,   21.        ,    6.23813708, ...,    2.10984183,\n",
       "           37.86      , -122.22      ],\n",
       "        [   7.2574    ,   52.        ,    8.28813559, ...,    2.80225989,\n",
       "           37.85      , -122.24      ],\n",
       "        ...,\n",
       "        [   1.7       ,   17.        ,    5.20554273, ...,    2.3256351 ,\n",
       "           39.43      , -121.22      ],\n",
       "        [   1.8672    ,   18.        ,    5.32951289, ...,    2.12320917,\n",
       "           39.43      , -121.32      ],\n",
       "        [   2.3886    ,   16.        ,    5.25471698, ...,    2.61698113,\n",
       "           39.37      , -121.24      ]]),\n",
       " 'target': array([4.526, 3.585, 3.521, ..., 0.923, 0.847, 0.894]),\n",
       " 'frame': None,\n",
       " 'target_names': ['MedHouseVal'],\n",
       " 'feature_names': ['MedInc',\n",
       "  'HouseAge',\n",
       "  'AveRooms',\n",
       "  'AveBedrms',\n",
       "  'Population',\n",
       "  'AveOccup',\n",
       "  'Latitude',\n",
       "  'Longitude'],\n",
       " 'DESCR': '.. _california_housing_dataset:\\n\\nCalifornia Housing dataset\\n--------------------------\\n\\n**Data Set Characteristics:**\\n\\n    :Number of Instances: 20640\\n\\n    :Number of Attributes: 8 numeric, predictive attributes and the target\\n\\n    :Attribute Information:\\n        - MedInc        median income in block\\n        - HouseAge      median house age in block\\n        - AveRooms      average number of rooms\\n        - AveBedrms     average number of bedrooms\\n        - Population    block population\\n        - AveOccup      average house occupancy\\n        - Latitude      house block latitude\\n        - Longitude     house block longitude\\n\\n    :Missing Attribute Values: None\\n\\nThis dataset was obtained from the StatLib repository.\\nhttp://lib.stat.cmu.edu/datasets/\\n\\nThe target variable is the median house value for California districts.\\n\\nThis dataset was derived from the 1990 U.S. census, using one row per census\\nblock group. A block group is the smallest geographical unit for which the U.S.\\nCensus Bureau publishes sample data (a block group typically has a population\\nof 600 to 3,000 people).\\n\\nIt can be downloaded/loaded using the\\n:func:`sklearn.datasets.fetch_california_housing` function.\\n\\n.. topic:: References\\n\\n    - Pace, R. Kelley and Ronald Barry, Sparse Spatial Autoregressions,\\n      Statistics and Probability Letters, 33 (1997) 291-297\\n'}"
      ]
     },
     "execution_count": 7,
     "metadata": {},
     "output_type": "execute_result"
    }
   ],
   "source": [
    "house_dataset"
   ]
  },
  {
   "cell_type": "code",
   "execution_count": 5,
   "id": "civic-contents",
   "metadata": {},
   "outputs": [],
   "source": [
    "df = pd.DataFrame(\n",
    "    np.concatenate(\n",
    "        (house_dataset.data, house_dataset.target.reshape(-1, 1)), axis=1\n",
    "    ),\n",
    "    columns=house_dataset.feature_names + [\"Price\"],\n",
    ")"
   ]
  },
  {
   "cell_type": "code",
   "execution_count": 6,
   "id": "novel-distributor",
   "metadata": {},
   "outputs": [
    {
     "data": {
      "text/html": [
       "<div>\n",
       "<style scoped>\n",
       "    .dataframe tbody tr th:only-of-type {\n",
       "        vertical-align: middle;\n",
       "    }\n",
       "\n",
       "    .dataframe tbody tr th {\n",
       "        vertical-align: top;\n",
       "    }\n",
       "\n",
       "    .dataframe thead th {\n",
       "        text-align: right;\n",
       "    }\n",
       "</style>\n",
       "<table border=\"1\" class=\"dataframe\">\n",
       "  <thead>\n",
       "    <tr style=\"text-align: right;\">\n",
       "      <th></th>\n",
       "      <th>MedInc</th>\n",
       "      <th>HouseAge</th>\n",
       "      <th>AveRooms</th>\n",
       "      <th>AveBedrms</th>\n",
       "      <th>Population</th>\n",
       "      <th>AveOccup</th>\n",
       "      <th>Latitude</th>\n",
       "      <th>Longitude</th>\n",
       "      <th>Price</th>\n",
       "    </tr>\n",
       "  </thead>\n",
       "  <tbody>\n",
       "    <tr>\n",
       "      <th>0</th>\n",
       "      <td>8.3252</td>\n",
       "      <td>41.0</td>\n",
       "      <td>6.984127</td>\n",
       "      <td>1.023810</td>\n",
       "      <td>322.0</td>\n",
       "      <td>2.555556</td>\n",
       "      <td>37.88</td>\n",
       "      <td>-122.23</td>\n",
       "      <td>4.526</td>\n",
       "    </tr>\n",
       "    <tr>\n",
       "      <th>1</th>\n",
       "      <td>8.3014</td>\n",
       "      <td>21.0</td>\n",
       "      <td>6.238137</td>\n",
       "      <td>0.971880</td>\n",
       "      <td>2401.0</td>\n",
       "      <td>2.109842</td>\n",
       "      <td>37.86</td>\n",
       "      <td>-122.22</td>\n",
       "      <td>3.585</td>\n",
       "    </tr>\n",
       "    <tr>\n",
       "      <th>2</th>\n",
       "      <td>7.2574</td>\n",
       "      <td>52.0</td>\n",
       "      <td>8.288136</td>\n",
       "      <td>1.073446</td>\n",
       "      <td>496.0</td>\n",
       "      <td>2.802260</td>\n",
       "      <td>37.85</td>\n",
       "      <td>-122.24</td>\n",
       "      <td>3.521</td>\n",
       "    </tr>\n",
       "    <tr>\n",
       "      <th>3</th>\n",
       "      <td>5.6431</td>\n",
       "      <td>52.0</td>\n",
       "      <td>5.817352</td>\n",
       "      <td>1.073059</td>\n",
       "      <td>558.0</td>\n",
       "      <td>2.547945</td>\n",
       "      <td>37.85</td>\n",
       "      <td>-122.25</td>\n",
       "      <td>3.413</td>\n",
       "    </tr>\n",
       "    <tr>\n",
       "      <th>4</th>\n",
       "      <td>3.8462</td>\n",
       "      <td>52.0</td>\n",
       "      <td>6.281853</td>\n",
       "      <td>1.081081</td>\n",
       "      <td>565.0</td>\n",
       "      <td>2.181467</td>\n",
       "      <td>37.85</td>\n",
       "      <td>-122.25</td>\n",
       "      <td>3.422</td>\n",
       "    </tr>\n",
       "    <tr>\n",
       "      <th>...</th>\n",
       "      <td>...</td>\n",
       "      <td>...</td>\n",
       "      <td>...</td>\n",
       "      <td>...</td>\n",
       "      <td>...</td>\n",
       "      <td>...</td>\n",
       "      <td>...</td>\n",
       "      <td>...</td>\n",
       "      <td>...</td>\n",
       "    </tr>\n",
       "    <tr>\n",
       "      <th>20635</th>\n",
       "      <td>1.5603</td>\n",
       "      <td>25.0</td>\n",
       "      <td>5.045455</td>\n",
       "      <td>1.133333</td>\n",
       "      <td>845.0</td>\n",
       "      <td>2.560606</td>\n",
       "      <td>39.48</td>\n",
       "      <td>-121.09</td>\n",
       "      <td>0.781</td>\n",
       "    </tr>\n",
       "    <tr>\n",
       "      <th>20636</th>\n",
       "      <td>2.5568</td>\n",
       "      <td>18.0</td>\n",
       "      <td>6.114035</td>\n",
       "      <td>1.315789</td>\n",
       "      <td>356.0</td>\n",
       "      <td>3.122807</td>\n",
       "      <td>39.49</td>\n",
       "      <td>-121.21</td>\n",
       "      <td>0.771</td>\n",
       "    </tr>\n",
       "    <tr>\n",
       "      <th>20637</th>\n",
       "      <td>1.7000</td>\n",
       "      <td>17.0</td>\n",
       "      <td>5.205543</td>\n",
       "      <td>1.120092</td>\n",
       "      <td>1007.0</td>\n",
       "      <td>2.325635</td>\n",
       "      <td>39.43</td>\n",
       "      <td>-121.22</td>\n",
       "      <td>0.923</td>\n",
       "    </tr>\n",
       "    <tr>\n",
       "      <th>20638</th>\n",
       "      <td>1.8672</td>\n",
       "      <td>18.0</td>\n",
       "      <td>5.329513</td>\n",
       "      <td>1.171920</td>\n",
       "      <td>741.0</td>\n",
       "      <td>2.123209</td>\n",
       "      <td>39.43</td>\n",
       "      <td>-121.32</td>\n",
       "      <td>0.847</td>\n",
       "    </tr>\n",
       "    <tr>\n",
       "      <th>20639</th>\n",
       "      <td>2.3886</td>\n",
       "      <td>16.0</td>\n",
       "      <td>5.254717</td>\n",
       "      <td>1.162264</td>\n",
       "      <td>1387.0</td>\n",
       "      <td>2.616981</td>\n",
       "      <td>39.37</td>\n",
       "      <td>-121.24</td>\n",
       "      <td>0.894</td>\n",
       "    </tr>\n",
       "  </tbody>\n",
       "</table>\n",
       "<p>20640 rows × 9 columns</p>\n",
       "</div>"
      ],
      "text/plain": [
       "       MedInc  HouseAge  AveRooms  AveBedrms  Population  AveOccup  Latitude  \\\n",
       "0      8.3252      41.0  6.984127   1.023810       322.0  2.555556     37.88   \n",
       "1      8.3014      21.0  6.238137   0.971880      2401.0  2.109842     37.86   \n",
       "2      7.2574      52.0  8.288136   1.073446       496.0  2.802260     37.85   \n",
       "3      5.6431      52.0  5.817352   1.073059       558.0  2.547945     37.85   \n",
       "4      3.8462      52.0  6.281853   1.081081       565.0  2.181467     37.85   \n",
       "...       ...       ...       ...        ...         ...       ...       ...   \n",
       "20635  1.5603      25.0  5.045455   1.133333       845.0  2.560606     39.48   \n",
       "20636  2.5568      18.0  6.114035   1.315789       356.0  3.122807     39.49   \n",
       "20637  1.7000      17.0  5.205543   1.120092      1007.0  2.325635     39.43   \n",
       "20638  1.8672      18.0  5.329513   1.171920       741.0  2.123209     39.43   \n",
       "20639  2.3886      16.0  5.254717   1.162264      1387.0  2.616981     39.37   \n",
       "\n",
       "       Longitude  Price  \n",
       "0        -122.23  4.526  \n",
       "1        -122.22  3.585  \n",
       "2        -122.24  3.521  \n",
       "3        -122.25  3.413  \n",
       "4        -122.25  3.422  \n",
       "...          ...    ...  \n",
       "20635    -121.09  0.781  \n",
       "20636    -121.21  0.771  \n",
       "20637    -121.22  0.923  \n",
       "20638    -121.32  0.847  \n",
       "20639    -121.24  0.894  \n",
       "\n",
       "[20640 rows x 9 columns]"
      ]
     },
     "execution_count": 6,
     "metadata": {},
     "output_type": "execute_result"
    }
   ],
   "source": [
    "df"
   ]
  },
  {
   "cell_type": "code",
   "execution_count": 8,
   "id": "corresponding-energy",
   "metadata": {},
   "outputs": [],
   "source": [
    "train_size = int(df.shape[0] * 0.9)\n",
    "df[:train_size].to_csv(\"train.csv\", index=False)\n",
    "df[train_size:].to_csv(\"eval.csv\", index=False)\n",
    "train_file_path = \"train.csv\"\n",
    "test_file_path = \"eval.csv\""
   ]
  },
  {
   "cell_type": "markdown",
   "id": "amended-fleece",
   "metadata": {},
   "source": [
    "第二步是运行 StructuredDataRegressor。 作为一个快速演示，我们将 epochs 设置为 10。您也可以为自适应数量的 epochs 保留未指定的 epochs。"
   ]
  },
  {
   "cell_type": "code",
   "execution_count": 9,
   "id": "wicked-radius",
   "metadata": {},
   "outputs": [],
   "source": [
    "# Initialize the structured data regressor.\n",
    "reg = ak.StructuredDataRegressor(\n",
    "    overwrite=True, max_trials=3\n",
    ")  # It tries 3 different models."
   ]
  },
  {
   "cell_type": "code",
   "execution_count": 10,
   "id": "aerial-situation",
   "metadata": {},
   "outputs": [
    {
     "name": "stdout",
     "output_type": "stream",
     "text": [
      "Trial 3 Complete [00h 01m 31s]\n",
      "val_loss: 0.7858144640922546\n",
      "\n",
      "Best val_loss So Far: 0.7568506598472595\n",
      "Total elapsed time: 00h 04m 39s\n",
      "INFO:tensorflow:Oracle triggered exit\n",
      "Epoch 1/10\n",
      "581/581 [==============================] - 9s 15ms/step - loss: 0.8547 - mean_squared_error: 0.8547\n",
      "Epoch 2/10\n",
      "581/581 [==============================] - 9s 15ms/step - loss: 0.5989 - mean_squared_error: 0.5989\n",
      "Epoch 3/10\n",
      "581/581 [==============================] - 8s 15ms/step - loss: 0.5449 - mean_squared_error: 0.5449\n",
      "Epoch 4/10\n",
      "581/581 [==============================] - 8s 15ms/step - loss: 0.5240 - mean_squared_error: 0.5240\n",
      "Epoch 5/10\n",
      "581/581 [==============================] - 8s 15ms/step - loss: 0.5128 - mean_squared_error: 0.5128\n",
      "Epoch 6/10\n",
      "581/581 [==============================] - 9s 15ms/step - loss: 0.5162 - mean_squared_error: 0.5162\n",
      "Epoch 7/10\n",
      "581/581 [==============================] - 9s 15ms/step - loss: 0.5030 - mean_squared_error: 0.5030\n",
      "Epoch 8/10\n",
      "581/581 [==============================] - 9s 15ms/step - loss: 0.4952 - mean_squared_error: 0.4952\n",
      "Epoch 9/10\n",
      "581/581 [==============================] - 8s 15ms/step - loss: 0.4901 - mean_squared_error: 0.4901\n",
      "Epoch 10/10\n",
      "581/581 [==============================] - 8s 15ms/step - loss: 0.4949 - mean_squared_error: 0.4949\n",
      "INFO:tensorflow:Assets written to: ./structured_data_regressor/best_model/assets\n"
     ]
    }
   ],
   "source": [
    "# Feed the structured data regressor with training data.\n",
    "reg.fit(\n",
    "    # The path to the train.csv file.\n",
    "    train_file_path,\n",
    "    # The name of the label column.\n",
    "    \"Price\",\n",
    "    epochs=10,\n",
    ")"
   ]
  },
  {
   "cell_type": "code",
   "execution_count": 11,
   "id": "adjusted-minutes",
   "metadata": {},
   "outputs": [
    {
     "name": "stdout",
     "output_type": "stream",
     "text": [
      "65/65 [==============================] - 0s 7ms/step\n"
     ]
    }
   ],
   "source": [
    "# Predict with the best model.\n",
    "predicted_y = reg.predict(test_file_path)"
   ]
  },
  {
   "cell_type": "code",
   "execution_count": 12,
   "id": "minus-queens",
   "metadata": {},
   "outputs": [
    {
     "name": "stdout",
     "output_type": "stream",
     "text": [
      "65/65 [==============================] - 1s 12ms/step - loss: 0.6181 - mean_squared_error: 0.6181\n",
      "[0.6181397438049316, 0.6181397438049316]\n"
     ]
    }
   ],
   "source": [
    "# Evaluate the best model with testing data.\n",
    "print(reg.evaluate(test_file_path, \"Price\"))"
   ]
  },
  {
   "cell_type": "markdown",
   "id": "female-spokesman",
   "metadata": {},
   "source": [
    "## 数据格式"
   ]
  },
  {
   "cell_type": "markdown",
   "id": "essential-property",
   "metadata": {},
   "source": [
    "AutoKeras StructuredDataRegressor 对于数据格式非常灵活。\n",
    "\n",
    "上面的例子展示了如何直接使用 CSV 文件。 除了 CSV 文件，它还支持 numpy.ndarray、pandas.DataFrame 或 tf.data.Dataset。 数据应该是带有数值或分类值的二维数据。\n",
    "\n",
    "对于回归目标，它应该是数值向量。 AutoKeras 接受 numpy.ndarray、pandas.DataFrame 或 pandas.Series。\n",
    "\n",
    "以下示例展示了如何使用 numpy.ndarray、pandas.DataFrame 和 tensorflow.data.Dataset 准备数据。"
   ]
  },
  {
   "cell_type": "code",
   "execution_count": 13,
   "id": "emerging-childhood",
   "metadata": {},
   "outputs": [
    {
     "name": "stdout",
     "output_type": "stream",
     "text": [
      "<class 'pandas.core.frame.DataFrame'>\n"
     ]
    }
   ],
   "source": [
    "# x_train as pandas.DataFrame, y_train as pandas.Series\n",
    "x_train = pd.read_csv(train_file_path)\n",
    "print(type(x_train))  # pandas.DataFrame"
   ]
  },
  {
   "cell_type": "code",
   "execution_count": 14,
   "id": "czech-responsibility",
   "metadata": {},
   "outputs": [
    {
     "name": "stdout",
     "output_type": "stream",
     "text": [
      "<class 'pandas.core.series.Series'>\n"
     ]
    }
   ],
   "source": [
    "y_train = x_train.pop(\"Price\")\n",
    "print(type(y_train))  # pandas.Series"
   ]
  },
  {
   "cell_type": "code",
   "execution_count": 15,
   "id": "passing-lawrence",
   "metadata": {},
   "outputs": [
    {
     "name": "stdout",
     "output_type": "stream",
     "text": [
      "<class 'pandas.core.frame.DataFrame'>\n"
     ]
    }
   ],
   "source": [
    "# You can also use pandas.DataFrame for y_train.\n",
    "y_train = pd.DataFrame(y_train)\n",
    "print(type(y_train))  # pandas.DataFrame"
   ]
  },
  {
   "cell_type": "code",
   "execution_count": 16,
   "id": "regulation-mainstream",
   "metadata": {},
   "outputs": [
    {
     "name": "stdout",
     "output_type": "stream",
     "text": [
      "<class 'numpy.ndarray'>\n",
      "<class 'numpy.ndarray'>\n"
     ]
    }
   ],
   "source": [
    "# You can also use numpy.ndarray for x_train and y_train.\n",
    "x_train = x_train.to_numpy()\n",
    "y_train = y_train.to_numpy()\n",
    "print(type(x_train))  # numpy.ndarray\n",
    "print(type(y_train))  # numpy.ndarray"
   ]
  },
  {
   "cell_type": "code",
   "execution_count": 17,
   "id": "stock-investigator",
   "metadata": {},
   "outputs": [],
   "source": [
    "# Preparing testing data.\n",
    "x_test = pd.read_csv(test_file_path)\n",
    "y_test = x_test.pop(\"Price\")"
   ]
  },
  {
   "cell_type": "code",
   "execution_count": null,
   "id": "average-mother",
   "metadata": {},
   "outputs": [],
   "source": [
    "# It tries 10 different models.\n",
    "reg = ak.StructuredDataRegressor(max_trials=3, overwrite=True)"
   ]
  },
  {
   "cell_type": "code",
   "execution_count": 18,
   "id": "encouraging-montana",
   "metadata": {},
   "outputs": [],
   "source": [
    "# Feed the structured data regressor with training data.\n",
    "reg.fit(x_train, y_train, epochs=10)"
   ]
  },
  {
   "cell_type": "code",
   "execution_count": 19,
   "id": "level-dynamics",
   "metadata": {},
   "outputs": [
    {
     "name": "stdout",
     "output_type": "stream",
     "text": [
      "65/65 [==============================] - 0s 7ms/step\n"
     ]
    }
   ],
   "source": [
    "# Predict with the best model.\n",
    "predicted_y = reg.predict(x_test)"
   ]
  },
  {
   "cell_type": "code",
   "execution_count": 20,
   "id": "partial-medicaid",
   "metadata": {},
   "outputs": [
    {
     "name": "stdout",
     "output_type": "stream",
     "text": [
      "65/65 [==============================] - 1s 12ms/step - loss: 0.6181 - mean_squared_error: 0.6181\n",
      "[0.6181397438049316, 0.6181397438049316]\n"
     ]
    }
   ],
   "source": [
    "# Evaluate the best model with testing data.\n",
    "print(reg.evaluate(x_test, y_test))"
   ]
  },
  {
   "cell_type": "markdown",
   "id": "measured-flower",
   "metadata": {},
   "source": [
    "以下代码显示了如何将 numpy.ndarray 转换为 tf.data.Dataset。"
   ]
  },
  {
   "cell_type": "code",
   "execution_count": 22,
   "id": "specified-ghost",
   "metadata": {},
   "outputs": [],
   "source": [
    "train_set = tf.data.Dataset.from_tensor_slices((x_train, y_train))\n",
    "test_set = tf.data.Dataset.from_tensor_slices((x_test, y_test))\n",
    "\n",
    "reg = ak.StructuredDataRegressor(max_trials=3, overwrite=True)"
   ]
  },
  {
   "cell_type": "code",
   "execution_count": 23,
   "id": "fifth-parent",
   "metadata": {},
   "outputs": [
    {
     "name": "stdout",
     "output_type": "stream",
     "text": [
      "Trial 3 Complete [00h 01m 34s]\n",
      "val_loss: 0.8734071254730225\n",
      "\n",
      "Best val_loss So Far: 0.8734071254730225\n",
      "Total elapsed time: 00h 04m 41s\n",
      "INFO:tensorflow:Oracle triggered exit\n",
      "Epoch 1/10\n",
      "581/581 [==============================] - 9s 15ms/step - loss: 1.2528 - mean_squared_error: 1.2528\n",
      "Epoch 2/10\n",
      "581/581 [==============================] - 9s 15ms/step - loss: 0.6241 - mean_squared_error: 0.6241\n",
      "Epoch 3/10\n",
      "581/581 [==============================] - 9s 15ms/step - loss: 0.5600 - mean_squared_error: 0.5600\n",
      "Epoch 4/10\n",
      "581/581 [==============================] - 9s 15ms/step - loss: 0.5349 - mean_squared_error: 0.5349\n",
      "Epoch 5/10\n",
      "581/581 [==============================] - 9s 15ms/step - loss: 0.5202 - mean_squared_error: 0.5202\n",
      "Epoch 6/10\n",
      "581/581 [==============================] - 9s 15ms/step - loss: 0.5084 - mean_squared_error: 0.5084\n",
      "Epoch 7/10\n",
      "581/581 [==============================] - 9s 15ms/step - loss: 0.4996 - mean_squared_error: 0.4996\n",
      "Epoch 8/10\n",
      "581/581 [==============================] - 9s 15ms/step - loss: 0.4898 - mean_squared_error: 0.4898\n",
      "Epoch 9/10\n",
      "581/581 [==============================] - 9s 15ms/step - loss: 0.4822 - mean_squared_error: 0.4822\n",
      "Epoch 10/10\n",
      "581/581 [==============================] - 9s 15ms/step - loss: 0.4761 - mean_squared_error: 0.4761\n",
      "INFO:tensorflow:Assets written to: ./structured_data_regressor/best_model/assets\n"
     ]
    }
   ],
   "source": [
    "# Feed the tensorflow Dataset to the regressor.\n",
    "reg.fit(train_set, epochs=10)"
   ]
  },
  {
   "cell_type": "code",
   "execution_count": 24,
   "id": "fabulous-medicare",
   "metadata": {},
   "outputs": [
    {
     "name": "stdout",
     "output_type": "stream",
     "text": [
      "65/65 [==============================] - 1s 7ms/step\n"
     ]
    }
   ],
   "source": [
    "# Predict with the best model.\n",
    "predicted_y = reg.predict(test_set)"
   ]
  },
  {
   "cell_type": "code",
   "execution_count": 25,
   "id": "disturbed-professor",
   "metadata": {},
   "outputs": [
    {
     "name": "stdout",
     "output_type": "stream",
     "text": [
      "65/65 [==============================] - 1s 12ms/step - loss: 0.5851 - mean_squared_error: 0.5851\n",
      "[0.585136890411377, 0.585136890411377]\n"
     ]
    }
   ],
   "source": [
    "# Evaluate the best model with testing data.\n",
    "print(reg.evaluate(test_set))"
   ]
  },
  {
   "cell_type": "markdown",
   "id": "entire-ethernet",
   "metadata": {},
   "source": [
    "您还可以指定数据的列名和类型，如下所示。 如果训练数据已经有列名，则 column_names 是可选的，例如 pandas.DataFrame，CSV 文件。 任何未指定类型的列都将从训练数据中推断出来。"
   ]
  },
  {
   "cell_type": "code",
   "execution_count": 26,
   "id": "green-pencil",
   "metadata": {},
   "outputs": [],
   "source": [
    "# Initialize the structured data regressor.\n",
    "reg = ak.StructuredDataRegressor(\n",
    "    column_names=[\n",
    "        \"MedInc\",\n",
    "        \"HouseAge\",\n",
    "        \"AveRooms\",\n",
    "        \"AveBedrms\",\n",
    "        \"Population\",\n",
    "        \"AveOccup\",\n",
    "        \"Latitude\",\n",
    "        \"Longitude\",\n",
    "    ],\n",
    "    column_types={\"MedInc\": \"numerical\", \"Latitude\": \"numerical\"},\n",
    "    max_trials=10,  # It tries 10 different models.\n",
    "    overwrite=True,\n",
    ")"
   ]
  },
  {
   "cell_type": "markdown",
   "id": "directed-bloom",
   "metadata": {},
   "source": [
    "## 验证数据"
   ]
  },
  {
   "cell_type": "markdown",
   "id": "developmental-brazil",
   "metadata": {},
   "source": [
    "默认情况下，AutoKeras 使用最后 20% 的训练数据作为验证数据。 如下例所示，您可以使用validation_split 来指定百分比。"
   ]
  },
  {
   "cell_type": "code",
   "execution_count": 27,
   "id": "matched-maximum",
   "metadata": {},
   "outputs": [
    {
     "name": "stdout",
     "output_type": "stream",
     "text": [
      "Trial 10 Complete [00h 01m 33s]\n",
      "val_loss: 0.6876036524772644\n",
      "\n",
      "Best val_loss So Far: 0.6747000813484192\n",
      "Total elapsed time: 00h 15m 36s\n",
      "INFO:tensorflow:Oracle triggered exit\n",
      "Epoch 1/10\n",
      "581/581 [==============================] - 9s 15ms/step - loss: 0.8728 - mean_squared_error: 0.8728\n",
      "Epoch 2/10\n",
      "581/581 [==============================] - 8s 15ms/step - loss: 0.6805 - mean_squared_error: 0.6805\n",
      "Epoch 3/10\n",
      "581/581 [==============================] - 8s 15ms/step - loss: 0.6657 - mean_squared_error: 0.6657\n",
      "Epoch 4/10\n",
      "581/581 [==============================] - 8s 15ms/step - loss: 0.6253 - mean_squared_error: 0.6253\n",
      "Epoch 5/10\n",
      "581/581 [==============================] - 8s 15ms/step - loss: 0.5942 - mean_squared_error: 0.5942\n",
      "Epoch 6/10\n",
      "581/581 [==============================] - 8s 15ms/step - loss: 0.5689 - mean_squared_error: 0.5689\n",
      "Epoch 7/10\n",
      "581/581 [==============================] - 8s 15ms/step - loss: 0.5602 - mean_squared_error: 0.5602\n",
      "Epoch 8/10\n",
      "581/581 [==============================] - 8s 15ms/step - loss: 0.5569 - mean_squared_error: 0.5569\n",
      "Epoch 9/10\n",
      "581/581 [==============================] - 8s 15ms/step - loss: 0.5362 - mean_squared_error: 0.5362\n",
      "Epoch 10/10\n",
      "581/581 [==============================] - 8s 15ms/step - loss: 0.5352 - mean_squared_error: 0.5352\n",
      "INFO:tensorflow:Assets written to: ./structured_data_regressor/best_model/assets\n"
     ]
    }
   ],
   "source": [
    "reg.fit(\n",
    "    x_train,\n",
    "    y_train,\n",
    "    # Split the training data and use the last 15% as validation data.\n",
    "    validation_split=0.15,\n",
    "    epochs=10,\n",
    ")"
   ]
  },
  {
   "cell_type": "markdown",
   "id": "opening-spyware",
   "metadata": {},
   "source": [
    "您还可以使用您自己的验证集，而不是使用validation_data 将其从训练数据中分离出来。"
   ]
  },
  {
   "cell_type": "code",
   "execution_count": null,
   "id": "fifth-france",
   "metadata": {},
   "outputs": [],
   "source": [
    "split = 500\n",
    "x_val = x_train[split:]\n",
    "y_val = y_train[split:]\n",
    "x_train = x_train[:split]\n",
    "y_train = y_train[:split]\n",
    "reg.fit(\n",
    "    x_train,\n",
    "    y_train,\n",
    "    # Use your own validation set.\n",
    "    validation_data=(x_val, y_val),\n",
    "    epochs=10,\n",
    ")"
   ]
  },
  {
   "cell_type": "markdown",
   "id": "native-corner",
   "metadata": {},
   "source": [
    "## 自定义搜索空间"
   ]
  },
  {
   "cell_type": "markdown",
   "id": "cubic-laundry",
   "metadata": {},
   "source": [
    "对于高级用户，您可以使用 AutoModel 而不是 StructuredDataRegressor 来自定义您的搜索空间。 您可以为一些高级配置配置 StructuredDataBlock，例如，categorical_encoding 是否使用 CategoricalToNumerical。 您也可以不指定这些参数，这将使不同的选择自动调整。 有关详细信息，请参阅以下示例。"
   ]
  },
  {
   "cell_type": "code",
   "execution_count": null,
   "id": "purple-frequency",
   "metadata": {},
   "outputs": [],
   "source": [
    "input_node = ak.StructuredDataInput()\n",
    "output_node = ak.StructuredDataBlock(categorical_encoding=True)(input_node)\n",
    "output_node = ak.RegressionHead()(output_node)\n",
    "reg = ak.AutoModel(\n",
    "    inputs=input_node, outputs=output_node, overwrite=True, max_trials=3\n",
    ")\n",
    "reg.fit(x_train, y_train, epochs=10)"
   ]
  },
  {
   "cell_type": "markdown",
   "id": "accurate-fraud",
   "metadata": {},
   "source": [
    "AutoModel 的用法类似于 Keras 的函数式 API。 基本上，您正在构建一个图，其边是块，节点是块的中间输出。 使用 output_node = ak.[some_block]([block_args])(input_node) 添加从 input_node 到 output_node 的边。\n",
    "\n",
    "您甚至还可以使用更细粒度的块来进一步自定义搜索空间。 请参阅以下示例。"
   ]
  },
  {
   "cell_type": "code",
   "execution_count": null,
   "id": "center-credit",
   "metadata": {},
   "outputs": [],
   "source": [
    "input_node = ak.StructuredDataInput()\n",
    "output_node = ak.CategoricalToNumerical()(input_node)\n",
    "output_node = ak.DenseBlock()(output_node)\n",
    "output_node = ak.RegressionHead()(output_node)\n",
    "reg = ak.AutoModel(\n",
    "    inputs=input_node, outputs=output_node, max_trials=3, overwrite=True\n",
    ")\n",
    "reg.fit(x_train, y_train, epochs=10)"
   ]
  },
  {
   "cell_type": "markdown",
   "id": "underlying-domestic",
   "metadata": {},
   "source": [
    "您还可以将 AutoKeras 找到的最佳模型导出为 Keras 模型。"
   ]
  },
  {
   "cell_type": "code",
   "execution_count": 28,
   "id": "broken-harbor",
   "metadata": {},
   "outputs": [
    {
     "name": "stdout",
     "output_type": "stream",
     "text": [
      "Model: \"model\"\n",
      "_________________________________________________________________\n",
      "Layer (type)                 Output Shape              Param #   \n",
      "=================================================================\n",
      "input_1 (InputLayer)         [(None, 8)]               0         \n",
      "_________________________________________________________________\n",
      "multi_category_encoding (Mul (None, 8)                 0         \n",
      "_________________________________________________________________\n",
      "normalization (Normalization (None, 8)                 17        \n",
      "_________________________________________________________________\n",
      "dense (Dense)                (None, 128)               1152      \n",
      "_________________________________________________________________\n",
      "re_lu (ReLU)                 (None, 128)               0         \n",
      "_________________________________________________________________\n",
      "dense_1 (Dense)              (None, 32)                4128      \n",
      "_________________________________________________________________\n",
      "re_lu_1 (ReLU)               (None, 32)                0         \n",
      "_________________________________________________________________\n",
      "dense_2 (Dense)              (None, 32)                1056      \n",
      "_________________________________________________________________\n",
      "re_lu_2 (ReLU)               (None, 32)                0         \n",
      "_________________________________________________________________\n",
      "regression_head_1 (Dense)    (None, 1)                 33        \n",
      "=================================================================\n",
      "Total params: 6,386\n",
      "Trainable params: 6,369\n",
      "Non-trainable params: 17\n",
      "_________________________________________________________________\n"
     ]
    }
   ],
   "source": [
    "model = reg.export_model()\n",
    "model.summary()"
   ]
  },
  {
   "cell_type": "code",
   "execution_count": 29,
   "id": "solid-flower",
   "metadata": {},
   "outputs": [],
   "source": [
    "from tensorflow.keras.utils import plot_model"
   ]
  },
  {
   "cell_type": "code",
   "execution_count": 31,
   "id": "agreed-communications",
   "metadata": {},
   "outputs": [
    {
     "data": {
      "image/png": "[encoded data removed]",
      "text/plain": [
       "<IPython.core.display.Image object>"
      ]
     },
     "execution_count": 31,
     "metadata": {},
     "output_type": "execute_result"
    }
   ],
   "source": [
    "plot_model(model, show_dtype=True, show_shapes=True)"
   ]
  },
  {
   "cell_type": "code",
   "execution_count": 32,
   "id": "closing-excuse",
   "metadata": {},
   "outputs": [
    {
     "data": {
      "text/plain": [
       "array([[5.000498 ],\n",
       "       [5.489713 ],\n",
       "       [4.8057857],\n",
       "       ...,\n",
       "       [1.5242534],\n",
       "       [1.9043915],\n",
       "       [1.8700457]], dtype=float32)"
      ]
     },
     "execution_count": 32,
     "metadata": {},
     "output_type": "execute_result"
    }
   ],
   "source": [
    "# numpy array in object (mixed type) is not supported.\n",
    "# you need convert it to unicode or float first.\n",
    "model.predict(x_train)"
   ]
  },
  {
   "cell_type": "code",
   "execution_count": null,
   "id": "regular-silly",
   "metadata": {},
   "outputs": [],
   "source": []
  }
 ],
 "metadata": {
  "kernelspec": {
   "display_name": "Python [conda env:tensorflow]",
   "language": "python",
   "name": "conda-env-tensorflow-py"
  },
  "language_info": {
   "codemirror_mode": {
    "name": "ipython",
    "version": 3
   },
   "file_extension": ".py",
   "mimetype": "text/x-python",
   "name": "python",
   "nbconvert_exporter": "python",
   "pygments_lexer": "ipython3",
   "version": "3.8.10"
  },
  "toc-autonumbering": true
 },
 "nbformat": 4,
 "nbformat_minor": 5
}
