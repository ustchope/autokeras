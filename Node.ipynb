{
 "cells": [
  {
   "cell_type": "markdown",
   "id": "bulgarian-asset",
   "metadata": {},
   "source": [
    "# 节点（Node）"
   ]
  },
  {
   "cell_type": "markdown",
   "id": "reserved-soundtrack",
   "metadata": {},
   "source": [
    "## ImageInput"
   ]
  },
  {
   "cell_type": "markdown",
   "id": "closed-webmaster",
   "metadata": {},
   "source": [
    "```Python\n",
    "autokeras.ImageInput(name=None, **kwargs)\n",
    "```"
   ]
  },
  {
   "cell_type": "markdown",
   "id": "infectious-powell",
   "metadata": {},
   "source": [
    "图像数据的输入节点。\n",
    "\n",
    "输入数据应该是 numpy.ndarray 或 tf.data.Dataset。 数据的形状应该是（样本，宽度，高度）或（样本，宽度，高度，通道）。"
   ]
  },
  {
   "cell_type": "markdown",
   "id": "twelve-ladder",
   "metadata": {},
   "source": [
    "### 参数"
   ]
  },
  {
   "cell_type": "markdown",
   "id": "ambient-flood",
   "metadata": {},
   "source": [
    "* name 可选[str]：字符串。 输入节点的名称。 如果未指定，它将使用类名自动设置。"
   ]
  },
  {
   "cell_type": "markdown",
   "id": "another-google",
   "metadata": {},
   "source": [
    "## Input"
   ]
  },
  {
   "cell_type": "markdown",
   "id": "authentic-newspaper",
   "metadata": {},
   "source": [
    "```Python\n",
    "autokeras.Input(name=None, **kwargs)\n",
    "```"
   ]
  },
  {
   "cell_type": "markdown",
   "id": "considered-alfred",
   "metadata": {},
   "source": [
    "张量数据的输入节点。\n",
    "\n",
    "数据应该是 numpy.ndarray 或 tf.data.Dataset。"
   ]
  },
  {
   "cell_type": "markdown",
   "id": "interior-candidate",
   "metadata": {},
   "source": [
    "### 参数"
   ]
  },
  {
   "cell_type": "markdown",
   "id": "indonesian-possession",
   "metadata": {},
   "source": [
    "* `name` 可选[str]：字符串。 输入节点的名称。 如果未指定，它将使用类名自动设置。"
   ]
  },
  {
   "cell_type": "markdown",
   "id": "productive-ceiling",
   "metadata": {},
   "source": [
    "## StructuredDataInput"
   ]
  },
  {
   "cell_type": "markdown",
   "id": "built-acting",
   "metadata": {},
   "source": [
    "```Python\n",
    "autokeras.StructuredDataInput(column_names=None, column_types=None, name=None, **kwargs)\n",
    "```"
   ]
  },
  {
   "cell_type": "markdown",
   "id": "honest-exception",
   "metadata": {},
   "source": [
    "结构化数据的输入节点。\n",
    "\n",
    "输入数据应该是 numpy.ndarray、pandas.DataFrame 或 tensorflow.Dataset。 数据应该是二维的，带有数值或分类值。"
   ]
  },
  {
   "cell_type": "markdown",
   "id": "hybrid-sperm",
   "metadata": {},
   "source": [
    "### 参数"
   ]
  },
  {
   "cell_type": "markdown",
   "id": "incredible-continuity",
   "metadata": {},
   "source": [
    "* `column_names` 可选[List[str]]：指定列名称的字符串列表。 列表的长度应等于数据的列数。 默认为无。 如果没有，它将从 csv 文件的标题或 pandas.DataFrame 中获取。\n",
    "* `column_types` 可选[Dict[str, str]]：Dict。 键是列名。 值应该是“数字”或“分类”，指示该列的类型。 默认为无。 如果不是 None，则需要指定 column_names。 如果没有，它将从数据中推断出来。 如果不同值的数量小于实例数量的 5%，则将一列判断为分类列。\n",
    "* `name` 可选[str]：字符串。 输入节点的名称。 如果未指定，它将使用类名自动设置。"
   ]
  },
  {
   "cell_type": "markdown",
   "id": "adapted-setup",
   "metadata": {},
   "source": [
    "## TextInput"
   ]
  },
  {
   "cell_type": "markdown",
   "id": "occupational-marsh",
   "metadata": {},
   "source": [
    "```Python\n",
    "autokeras.TextInput(name=None, **kwargs)\n",
    "```"
   ]
  },
  {
   "cell_type": "markdown",
   "id": "rocky-housing",
   "metadata": {},
   "source": [
    "文本数据的输入节点。\n",
    "\n",
    "输入数据应该是 numpy.ndarray 或 tf.data.Dataset。 数据应该是一维的。 数据中的每个元素都应该是一个字符串，它是一个完整的句子。"
   ]
  },
  {
   "cell_type": "markdown",
   "id": "novel-earthquake",
   "metadata": {},
   "source": [
    "### 参数"
   ]
  },
  {
   "cell_type": "markdown",
   "id": "controlling-garden",
   "metadata": {},
   "source": [
    "* `name` 可选[str]：字符串。 输入节点的名称。 如果未指定，它将使用类名自动设置。"
   ]
  },
  {
   "cell_type": "code",
   "execution_count": null,
   "id": "opposite-monte",
   "metadata": {},
   "outputs": [],
   "source": []
  }
 ],
 "metadata": {
  "kernelspec": {
   "display_name": "Python [conda env:tensorflow]",
   "language": "python",
   "name": "conda-env-tensorflow-py"
  },
  "language_info": {
   "codemirror_mode": {
    "name": "ipython",
    "version": 3
   },
   "file_extension": ".py",
   "mimetype": "text/x-python",
   "name": "python",
   "nbconvert_exporter": "python",
   "pygments_lexer": "ipython3",
   "version": "3.8.10"
  }
 },
 "nbformat": 4,
 "nbformat_minor": 5
}
